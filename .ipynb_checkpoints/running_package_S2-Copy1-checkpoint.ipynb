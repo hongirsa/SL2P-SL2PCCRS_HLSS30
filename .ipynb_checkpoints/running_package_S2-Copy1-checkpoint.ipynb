{
 "cells": [
  {
   "cell_type": "code",
   "execution_count": 1,
   "id": "69134e44-a5d8-465c-bdff-919907ed1da7",
   "metadata": {
    "tags": []
   },
   "outputs": [],
   "source": [
    "import sys,os\n",
    "[sys.path.append(x[0]) for x in os.walk('tools')]\n",
    "import dictionariesSL2P\n",
    "import SL2P\n",
    "from matplotlib import pyplot as plt\n",
    "import os,numpy\n",
    "import rasterio\n",
    "import os\n",
    "import pandas as pd"
   ]
  },
  {
   "cell_type": "markdown",
   "id": "973b6bf7-eb46-4b62-8687-157590821b39",
   "metadata": {
    "tags": []
   },
   "source": [
    "### Initiation"
   ]
  },
  {
   "cell_type": "code",
   "execution_count": 2,
   "id": "636e3f15-5ed4-4ae6-8e60-7d0f2532bb1f",
   "metadata": {
    "tags": []
   },
   "outputs": [
    {
     "name": "stdout",
     "output_type": "stream",
     "text": [
      "SL2P input data format for S2_L2A data: ['cosVZA', 'cosSZA', 'cosRAA', 'B03', 'B04', 'B05', 'B06', 'B07', 'B8A', 'B11', 'B12']\n"
     ]
    }
   ],
   "source": [
    "# variableName='LAI'\n",
    "# variableName='fAPAR'\n",
    "variableName='fCOVER'\n",
    "# imageCollectionName=\"COPERNICUS/S2_SR_HARMONIZED\"\n",
    "# imageCollectionName=\"NASA/HLS/HLSL30/v002\"\n",
    "imageCollectionName=\"S2_L2A\"\n",
    "fn='E:/vegetation/gee/notebook/CFS/sitesS2SR_1k_2021_apr_nov.csv'\n",
    "\n",
    "#### Input data Control ***-\n",
    "if variableName not in dictionariesSL2P.make_net_options().keys():\n",
    "    raise ValueError(('Supported vegetation valiables: %s'%(dictionariesSL2P.make_net_options().keys())))\n",
    "if imageCollectionName not in dictionariesSL2P.make_net_options()[variableName].keys():\n",
    "    raise ValueError(('Supported EO datasets: %s'%(dictionariesSL2P.make_net_options()[variableName].keys())))  \n",
    "       \n",
    "sl2p_inputs_bands=dictionariesSL2P.make_net_options()[variableName][imageCollectionName]['inputBands']  \n",
    "print ('SL2P input data format for %s data: %s' %(imageCollectionName,sl2p_inputs_bands))"
   ]
  },
  {
   "cell_type": "markdown",
   "id": "7cd581fc-5f65-46f0-af08-7b11265fd4b4",
   "metadata": {},
   "source": [
    "### 1- Read / prepare data"
   ]
  },
  {
   "cell_type": "code",
   "execution_count": 3,
   "id": "03e2159a-4a16-471c-8839-78cf58308168",
   "metadata": {
    "tags": []
   },
   "outputs": [
    {
     "data": {
      "text/html": [
       "<div>\n",
       "<style scoped>\n",
       "    .dataframe tbody tr th:only-of-type {\n",
       "        vertical-align: middle;\n",
       "    }\n",
       "\n",
       "    .dataframe tbody tr th {\n",
       "        vertical-align: top;\n",
       "    }\n",
       "\n",
       "    .dataframe thead th {\n",
       "        text-align: right;\n",
       "    }\n",
       "</style>\n",
       "<table border=\"1\" class=\"dataframe\">\n",
       "  <thead>\n",
       "    <tr style=\"text-align: right;\">\n",
       "      <th></th>\n",
       "      <th>Unnamed: 0</th>\n",
       "      <th>B1</th>\n",
       "      <th>B2</th>\n",
       "      <th>B3</th>\n",
       "      <th>B4</th>\n",
       "      <th>B5</th>\n",
       "      <th>B6</th>\n",
       "      <th>B7</th>\n",
       "      <th>B8</th>\n",
       "      <th>B8A</th>\n",
       "      <th>...</th>\n",
       "      <th>QA20</th>\n",
       "      <th>QA60</th>\n",
       "      <th>date</th>\n",
       "      <th>longitude</th>\n",
       "      <th>latitude</th>\n",
       "      <th>cosVZA</th>\n",
       "      <th>cosSZA</th>\n",
       "      <th>cosRAA</th>\n",
       "      <th>site</th>\n",
       "      <th>utc</th>\n",
       "    </tr>\n",
       "  </thead>\n",
       "  <tbody>\n",
       "    <tr>\n",
       "      <th>2422855</th>\n",
       "      <td>2422855</td>\n",
       "      <td>42.0</td>\n",
       "      <td>134.0</td>\n",
       "      <td>430.0</td>\n",
       "      <td>428.0</td>\n",
       "      <td>1066.0</td>\n",
       "      <td>2053.0</td>\n",
       "      <td>2302.0</td>\n",
       "      <td>2607.0</td>\n",
       "      <td>2776.0</td>\n",
       "      <td>...</td>\n",
       "      <td>0.0</td>\n",
       "      <td>0.0</td>\n",
       "      <td>1.636734e+12</td>\n",
       "      <td>-81.562657</td>\n",
       "      <td>42.799739</td>\n",
       "      <td>9872.0</td>\n",
       "      <td>4730.0</td>\n",
       "      <td>4951.0</td>\n",
       "      <td>2013</td>\n",
       "      <td>2021-11-12 16:21:32.630000128</td>\n",
       "    </tr>\n",
       "    <tr>\n",
       "      <th>2422856</th>\n",
       "      <td>2422856</td>\n",
       "      <td>64.0</td>\n",
       "      <td>96.0</td>\n",
       "      <td>338.0</td>\n",
       "      <td>392.0</td>\n",
       "      <td>929.0</td>\n",
       "      <td>1644.0</td>\n",
       "      <td>2125.0</td>\n",
       "      <td>2206.0</td>\n",
       "      <td>2277.0</td>\n",
       "      <td>...</td>\n",
       "      <td>0.0</td>\n",
       "      <td>0.0</td>\n",
       "      <td>1.636734e+12</td>\n",
       "      <td>-81.562415</td>\n",
       "      <td>42.799920</td>\n",
       "      <td>9872.0</td>\n",
       "      <td>4730.0</td>\n",
       "      <td>4951.0</td>\n",
       "      <td>2013</td>\n",
       "      <td>2021-11-12 16:21:32.630000128</td>\n",
       "    </tr>\n",
       "    <tr>\n",
       "      <th>2422857</th>\n",
       "      <td>2422857</td>\n",
       "      <td>64.0</td>\n",
       "      <td>223.0</td>\n",
       "      <td>516.0</td>\n",
       "      <td>474.0</td>\n",
       "      <td>1088.0</td>\n",
       "      <td>2089.0</td>\n",
       "      <td>2463.0</td>\n",
       "      <td>2687.0</td>\n",
       "      <td>2589.0</td>\n",
       "      <td>...</td>\n",
       "      <td>0.0</td>\n",
       "      <td>0.0</td>\n",
       "      <td>1.636734e+12</td>\n",
       "      <td>-81.562416</td>\n",
       "      <td>42.800100</td>\n",
       "      <td>9872.0</td>\n",
       "      <td>4730.0</td>\n",
       "      <td>4951.0</td>\n",
       "      <td>2013</td>\n",
       "      <td>2021-11-12 16:21:32.630000128</td>\n",
       "    </tr>\n",
       "  </tbody>\n",
       "</table>\n",
       "<p>3 rows × 32 columns</p>\n",
       "</div>"
      ],
      "text/plain": [
       "         Unnamed: 0    B1     B2     B3     B4      B5      B6      B7  \\\n",
       "2422855     2422855  42.0  134.0  430.0  428.0  1066.0  2053.0  2302.0   \n",
       "2422856     2422856  64.0   96.0  338.0  392.0   929.0  1644.0  2125.0   \n",
       "2422857     2422857  64.0  223.0  516.0  474.0  1088.0  2089.0  2463.0   \n",
       "\n",
       "             B8     B8A  ...  QA20  QA60          date  longitude   latitude  \\\n",
       "2422855  2607.0  2776.0  ...   0.0   0.0  1.636734e+12 -81.562657  42.799739   \n",
       "2422856  2206.0  2277.0  ...   0.0   0.0  1.636734e+12 -81.562415  42.799920   \n",
       "2422857  2687.0  2589.0  ...   0.0   0.0  1.636734e+12 -81.562416  42.800100   \n",
       "\n",
       "         cosVZA  cosSZA  cosRAA  site                            utc  \n",
       "2422855  9872.0  4730.0  4951.0  2013  2021-11-12 16:21:32.630000128  \n",
       "2422856  9872.0  4730.0  4951.0  2013  2021-11-12 16:21:32.630000128  \n",
       "2422857  9872.0  4730.0  4951.0  2013  2021-11-12 16:21:32.630000128  \n",
       "\n",
       "[3 rows x 32 columns]"
      ]
     },
     "execution_count": 3,
     "metadata": {},
     "output_type": "execute_result"
    }
   ],
   "source": [
    "data=pd.read_csv(fn)\n",
    "data.tail(3)\n",
    "# print('done')"
   ]
  },
  {
   "cell_type": "code",
   "execution_count": 4,
   "id": "d0892d9b-b63c-4715-9da0-d8ea19b4611b",
   "metadata": {},
   "outputs": [
    {
     "data": {
      "text/plain": [
       "['Unnamed: 0',\n",
       " 'B1',\n",
       " 'B2',\n",
       " 'B3',\n",
       " 'B4',\n",
       " 'B5',\n",
       " 'B6',\n",
       " 'B7',\n",
       " 'B8',\n",
       " 'B8A',\n",
       " 'B9',\n",
       " 'B11',\n",
       " 'B12',\n",
       " 'AOT',\n",
       " 'WVP',\n",
       " 'SCL',\n",
       " 'TCI_R',\n",
       " 'TCI_G',\n",
       " 'TCI_B',\n",
       " 'MSK_CLDPRB',\n",
       " 'MSK_SNWPRB',\n",
       " 'QA10',\n",
       " 'QA20',\n",
       " 'QA60',\n",
       " 'date',\n",
       " 'longitude',\n",
       " 'latitude',\n",
       " 'cosVZA',\n",
       " 'cosSZA',\n",
       " 'cosRAA',\n",
       " 'site',\n",
       " 'utc']"
      ]
     },
     "execution_count": 4,
     "metadata": {},
     "output_type": "execute_result"
    }
   ],
   "source": [
    "list(data.columns.values)"
   ]
  },
  {
   "cell_type": "code",
   "execution_count": 5,
   "id": "88f6eb8a-2670-4d1d-a45a-841c45a82aa0",
   "metadata": {
    "tags": []
   },
   "outputs": [],
   "source": [
    "data.rename(columns={'B1': 'B01', 'B2': 'B02', 'B3': 'B03', 'B4': 'B04', 'B5': 'B05', 'B6': 'B06', 'B7': 'B07', 'B8': 'B08'}, inplace=True)"
   ]
  },
  {
   "cell_type": "code",
   "execution_count": 6,
   "id": "dcc2d1c8-cffe-452c-9514-0e7d77a788dc",
   "metadata": {},
   "outputs": [],
   "source": [
    "# rename column names\n",
    "data = data.rename(columns={'date': 'time', 'utc': 'Date'})"
   ]
  },
  {
   "cell_type": "code",
   "execution_count": 7,
   "id": "d19962c2-413e-432c-85cc-bc0ef5562084",
   "metadata": {
    "tags": []
   },
   "outputs": [
    {
     "data": {
      "text/html": [
       "<div>\n",
       "<style scoped>\n",
       "    .dataframe tbody tr th:only-of-type {\n",
       "        vertical-align: middle;\n",
       "    }\n",
       "\n",
       "    .dataframe tbody tr th {\n",
       "        vertical-align: top;\n",
       "    }\n",
       "\n",
       "    .dataframe thead th {\n",
       "        text-align: right;\n",
       "    }\n",
       "</style>\n",
       "<table border=\"1\" class=\"dataframe\">\n",
       "  <thead>\n",
       "    <tr style=\"text-align: right;\">\n",
       "      <th></th>\n",
       "      <th>cosVZA</th>\n",
       "      <th>cosSZA</th>\n",
       "      <th>cosRAA</th>\n",
       "      <th>B03</th>\n",
       "      <th>B04</th>\n",
       "      <th>B05</th>\n",
       "      <th>B06</th>\n",
       "      <th>B07</th>\n",
       "      <th>B8A</th>\n",
       "      <th>B11</th>\n",
       "      <th>B12</th>\n",
       "    </tr>\n",
       "  </thead>\n",
       "  <tbody>\n",
       "    <tr>\n",
       "      <th>2422855</th>\n",
       "      <td>9872.0</td>\n",
       "      <td>4730.0</td>\n",
       "      <td>4951.0</td>\n",
       "      <td>430.0</td>\n",
       "      <td>428.0</td>\n",
       "      <td>1066.0</td>\n",
       "      <td>2053.0</td>\n",
       "      <td>2302.0</td>\n",
       "      <td>2776.0</td>\n",
       "      <td>2180.0</td>\n",
       "      <td>1241.0</td>\n",
       "    </tr>\n",
       "    <tr>\n",
       "      <th>2422856</th>\n",
       "      <td>9872.0</td>\n",
       "      <td>4730.0</td>\n",
       "      <td>4951.0</td>\n",
       "      <td>338.0</td>\n",
       "      <td>392.0</td>\n",
       "      <td>929.0</td>\n",
       "      <td>1644.0</td>\n",
       "      <td>2125.0</td>\n",
       "      <td>2277.0</td>\n",
       "      <td>2264.0</td>\n",
       "      <td>1307.0</td>\n",
       "    </tr>\n",
       "    <tr>\n",
       "      <th>2422857</th>\n",
       "      <td>9872.0</td>\n",
       "      <td>4730.0</td>\n",
       "      <td>4951.0</td>\n",
       "      <td>516.0</td>\n",
       "      <td>474.0</td>\n",
       "      <td>1088.0</td>\n",
       "      <td>2089.0</td>\n",
       "      <td>2463.0</td>\n",
       "      <td>2589.0</td>\n",
       "      <td>2107.0</td>\n",
       "      <td>1198.0</td>\n",
       "    </tr>\n",
       "  </tbody>\n",
       "</table>\n",
       "</div>"
      ],
      "text/plain": [
       "         cosVZA  cosSZA  cosRAA    B03    B04     B05     B06     B07     B8A  \\\n",
       "2422855  9872.0  4730.0  4951.0  430.0  428.0  1066.0  2053.0  2302.0  2776.0   \n",
       "2422856  9872.0  4730.0  4951.0  338.0  392.0   929.0  1644.0  2125.0  2277.0   \n",
       "2422857  9872.0  4730.0  4951.0  516.0  474.0  1088.0  2089.0  2463.0  2589.0   \n",
       "\n",
       "            B11     B12  \n",
       "2422855  2180.0  1241.0  \n",
       "2422856  2264.0  1307.0  \n",
       "2422857  2107.0  1198.0  "
      ]
     },
     "execution_count": 7,
     "metadata": {},
     "output_type": "execute_result"
    }
   ],
   "source": [
    "data[sl2p_inputs_bands].tail(3)"
   ]
  },
  {
   "cell_type": "code",
   "execution_count": 8,
   "id": "05cd45cb-2f7f-470c-8f49-87bbece7fdd5",
   "metadata": {
    "tags": []
   },
   "outputs": [],
   "source": [
    "data[sl2p_inputs_bands]=data[sl2p_inputs_bands]/10000"
   ]
  },
  {
   "cell_type": "code",
   "execution_count": 9,
   "id": "23db52d6-fcea-42d3-8f00-4ca1dfa0c955",
   "metadata": {
    "tags": []
   },
   "outputs": [
    {
     "data": {
      "text/html": [
       "<div>\n",
       "<style scoped>\n",
       "    .dataframe tbody tr th:only-of-type {\n",
       "        vertical-align: middle;\n",
       "    }\n",
       "\n",
       "    .dataframe tbody tr th {\n",
       "        vertical-align: top;\n",
       "    }\n",
       "\n",
       "    .dataframe thead th {\n",
       "        text-align: right;\n",
       "    }\n",
       "</style>\n",
       "<table border=\"1\" class=\"dataframe\">\n",
       "  <thead>\n",
       "    <tr style=\"text-align: right;\">\n",
       "      <th></th>\n",
       "      <th>cosVZA</th>\n",
       "      <th>cosSZA</th>\n",
       "      <th>cosRAA</th>\n",
       "      <th>B03</th>\n",
       "      <th>B04</th>\n",
       "      <th>B05</th>\n",
       "      <th>B06</th>\n",
       "      <th>B07</th>\n",
       "      <th>B8A</th>\n",
       "      <th>B11</th>\n",
       "      <th>B12</th>\n",
       "    </tr>\n",
       "  </thead>\n",
       "  <tbody>\n",
       "    <tr>\n",
       "      <th>2422855</th>\n",
       "      <td>0.9872</td>\n",
       "      <td>0.473</td>\n",
       "      <td>0.4951</td>\n",
       "      <td>0.0430</td>\n",
       "      <td>0.0428</td>\n",
       "      <td>0.1066</td>\n",
       "      <td>0.2053</td>\n",
       "      <td>0.2302</td>\n",
       "      <td>0.2776</td>\n",
       "      <td>0.2180</td>\n",
       "      <td>0.1241</td>\n",
       "    </tr>\n",
       "    <tr>\n",
       "      <th>2422856</th>\n",
       "      <td>0.9872</td>\n",
       "      <td>0.473</td>\n",
       "      <td>0.4951</td>\n",
       "      <td>0.0338</td>\n",
       "      <td>0.0392</td>\n",
       "      <td>0.0929</td>\n",
       "      <td>0.1644</td>\n",
       "      <td>0.2125</td>\n",
       "      <td>0.2277</td>\n",
       "      <td>0.2264</td>\n",
       "      <td>0.1307</td>\n",
       "    </tr>\n",
       "    <tr>\n",
       "      <th>2422857</th>\n",
       "      <td>0.9872</td>\n",
       "      <td>0.473</td>\n",
       "      <td>0.4951</td>\n",
       "      <td>0.0516</td>\n",
       "      <td>0.0474</td>\n",
       "      <td>0.1088</td>\n",
       "      <td>0.2089</td>\n",
       "      <td>0.2463</td>\n",
       "      <td>0.2589</td>\n",
       "      <td>0.2107</td>\n",
       "      <td>0.1198</td>\n",
       "    </tr>\n",
       "  </tbody>\n",
       "</table>\n",
       "</div>"
      ],
      "text/plain": [
       "         cosVZA  cosSZA  cosRAA     B03     B04     B05     B06     B07  \\\n",
       "2422855  0.9872   0.473  0.4951  0.0430  0.0428  0.1066  0.2053  0.2302   \n",
       "2422856  0.9872   0.473  0.4951  0.0338  0.0392  0.0929  0.1644  0.2125   \n",
       "2422857  0.9872   0.473  0.4951  0.0516  0.0474  0.1088  0.2089  0.2463   \n",
       "\n",
       "            B8A     B11     B12  \n",
       "2422855  0.2776  0.2180  0.1241  \n",
       "2422856  0.2277  0.2264  0.1307  \n",
       "2422857  0.2589  0.2107  0.1198  "
      ]
     },
     "execution_count": 9,
     "metadata": {},
     "output_type": "execute_result"
    }
   ],
   "source": [
    "data[sl2p_inputs_bands].tail(3)"
   ]
  },
  {
   "cell_type": "code",
   "execution_count": 10,
   "id": "fa85bde3-1d19-432e-9d32-2c3f18a5be4c",
   "metadata": {},
   "outputs": [],
   "source": [
    "# calculate NDVI =(NIR-R)/(NIR+R)\n",
    "data['NDVI']=(data['B08']-data['B04'])/(data['B08']+data['B04']) "
   ]
  },
  {
   "cell_type": "code",
   "execution_count": 11,
   "id": "4654d5ed-3256-4741-84d1-d0869180c66d",
   "metadata": {},
   "outputs": [
    {
     "data": {
      "text/plain": [
       "['Unnamed: 0',\n",
       " 'B01',\n",
       " 'B02',\n",
       " 'B03',\n",
       " 'B04',\n",
       " 'B05',\n",
       " 'B06',\n",
       " 'B07',\n",
       " 'B08',\n",
       " 'B8A',\n",
       " 'B9',\n",
       " 'B11',\n",
       " 'B12',\n",
       " 'AOT',\n",
       " 'WVP',\n",
       " 'SCL',\n",
       " 'TCI_R',\n",
       " 'TCI_G',\n",
       " 'TCI_B',\n",
       " 'MSK_CLDPRB',\n",
       " 'MSK_SNWPRB',\n",
       " 'QA10',\n",
       " 'QA20',\n",
       " 'QA60',\n",
       " 'time',\n",
       " 'longitude',\n",
       " 'latitude',\n",
       " 'cosVZA',\n",
       " 'cosSZA',\n",
       " 'cosRAA',\n",
       " 'site',\n",
       " 'Date',\n",
       " 'NDVI']"
      ]
     },
     "execution_count": 11,
     "metadata": {},
     "output_type": "execute_result"
    }
   ],
   "source": [
    "list(data.columns.values)"
   ]
  },
  {
   "cell_type": "markdown",
   "id": "f5f87402-034e-4bfc-a8cc-66d9e560bf8f",
   "metadata": {},
   "source": [
    "### 2 - Run SL2PV0 / export outputs"
   ]
  },
  {
   "cell_type": "code",
   "execution_count": 12,
   "id": "399b3e8f-5b36-4510-afb6-0241257c709e",
   "metadata": {
    "tags": []
   },
   "outputs": [
    {
     "name": "stdout",
     "output_type": "stream",
     "text": [
      "Estimating fCOVER from S2_L2A data using SL2P-V0 [Marie Weiss]\n",
      "Run SL2P...\n",
      "SL2P start: 2024-06-04 09:59:54.373391\n",
      "SL2P end: 2024-06-04 09:59:56.152646\n",
      "Generating sl2p input data flag\n",
      "Generating sl2p output product flag\n",
      "Done\n"
     ]
    },
    {
     "data": {
      "text/html": [
       "<div>\n",
       "<style scoped>\n",
       "    .dataframe tbody tr th:only-of-type {\n",
       "        vertical-align: middle;\n",
       "    }\n",
       "\n",
       "    .dataframe tbody tr th {\n",
       "        vertical-align: top;\n",
       "    }\n",
       "\n",
       "    .dataframe thead th {\n",
       "        text-align: right;\n",
       "    }\n",
       "</style>\n",
       "<table border=\"1\" class=\"dataframe\">\n",
       "  <thead>\n",
       "    <tr style=\"text-align: right;\">\n",
       "      <th></th>\n",
       "      <th>estimatefCOVER</th>\n",
       "      <th>networkID</th>\n",
       "      <th>errorfCOVER</th>\n",
       "      <th>QC_input</th>\n",
       "      <th>QC_output</th>\n",
       "    </tr>\n",
       "  </thead>\n",
       "  <tbody>\n",
       "    <tr>\n",
       "      <th>2422855</th>\n",
       "      <td>0.429505</td>\n",
       "      <td>0</td>\n",
       "      <td>0.019920</td>\n",
       "      <td>0</td>\n",
       "      <td>0</td>\n",
       "    </tr>\n",
       "    <tr>\n",
       "      <th>2422856</th>\n",
       "      <td>0.343745</td>\n",
       "      <td>0</td>\n",
       "      <td>0.019756</td>\n",
       "      <td>0</td>\n",
       "      <td>0</td>\n",
       "    </tr>\n",
       "    <tr>\n",
       "      <th>2422857</th>\n",
       "      <td>0.417058</td>\n",
       "      <td>0</td>\n",
       "      <td>0.021541</td>\n",
       "      <td>0</td>\n",
       "      <td>0</td>\n",
       "    </tr>\n",
       "  </tbody>\n",
       "</table>\n",
       "</div>"
      ],
      "text/plain": [
       "         estimatefCOVER  networkID  errorfCOVER  QC_input  QC_output\n",
       "2422855        0.429505          0     0.019920         0          0\n",
       "2422856        0.343745          0     0.019756         0          0\n",
       "2422857        0.417058          0     0.021541         0          0"
      ]
     },
     "execution_count": 12,
     "metadata": {},
     "output_type": "execute_result"
    }
   ],
   "source": [
    "DF=SL2P.SL2P(data,variableName,imageCollectionName,sl2p_inputs_bands)\n",
    "DF.tail(3)"
   ]
  },
  {
   "cell_type": "code",
   "execution_count": 13,
   "id": "6c861464-70a2-4854-90f4-7ac3a11793c5",
   "metadata": {
    "tags": []
   },
   "outputs": [
    {
     "data": {
      "text/plain": [
       "[<matplotlib.lines.Line2D at 0x221972f0940>]"
      ]
     },
     "execution_count": 13,
     "metadata": {},
     "output_type": "execute_result"
    },
    {
     "data": {
      "image/png": "[encoded data removed]",
      "text/plain": [
       "<Figure size 640x480 with 1 Axes>"
      ]
     },
     "metadata": {},
     "output_type": "display_data"
    }
   ],
   "source": [
    "# plt.plot(DF['estimateLAI'],'.k')\n",
    "# plt.plot(DF['estimatefAPAR'],'.k')\n",
    "plt.plot(DF['estimatefCOVER'],'.k')"
   ]
  },
  {
   "cell_type": "code",
   "execution_count": 14,
   "id": "f981324b-0b3b-466f-b0ed-df58a311521d",
   "metadata": {},
   "outputs": [],
   "source": [
    "sr_list=['B01', 'B02', 'B03', 'B04', 'B05', 'B06', 'B07', 'B08', 'B8A', 'B9', 'B11', 'B12', 'longitude', 'latitude', 'site','Date', 'NDVI']\n",
    "# para_list=['estimateLAI', 'errorLAI', 'QC_input', 'QC_output']\n",
    "# para_list=['estimatefAPAR', 'errorfAPAR', 'QC_input', 'QC_output']\n",
    "para_list=['estimatefCOVER', 'errorfCOVER', 'QC_input', 'QC_output']"
   ]
  },
  {
   "cell_type": "code",
   "execution_count": 15,
   "id": "57325b80-be61-41f4-8a25-f44ceab9dfb1",
   "metadata": {
    "tags": []
   },
   "outputs": [],
   "source": [
    "#Export DF\n",
    "# data[['date', 'longitude', 'latitude']].join(DF).to_csv(fn.replace('.csv','_%s_SL2P.csv'%(variableName))) \n",
    "data[sr_list].join(DF[para_list]).to_csv(fn.replace('.csv','_%s_SL2P1.csv'%(variableName))) "
   ]
  },
  {
   "cell_type": "markdown",
   "id": "f33bfa5e-6073-4260-bb44-021ce6cea8b7",
   "metadata": {},
   "source": [
    "### 3 - Run SL2P-CCRS / export outputs"
   ]
  },
  {
   "cell_type": "code",
   "execution_count": null,
   "id": "006ea772-6eb3-4643-83be-5952ce9b7a22",
   "metadata": {
    "tags": []
   },
   "outputs": [],
   "source": [
    "DF=SL2P.SL2PCCRS(data,variableName,imageCollectionName,sl2p_inputs_bands)\n",
    "DF"
   ]
  },
  {
   "cell_type": "code",
   "execution_count": null,
   "id": "629126f8-7fd2-4ded-8644-aa5d6cdb7ccd",
   "metadata": {
    "tags": []
   },
   "outputs": [],
   "source": [
    "#Export DF\n",
    "data[['date', 'longitude', 'latitude']].join(DF).to_csv(fn.replace('.csv','_%s_SL2PCCRS.csv'%(variableName))) "
   ]
  },
  {
   "cell_type": "code",
   "execution_count": null,
   "id": "08bea44b-14ad-400f-b34c-c6569d959937",
   "metadata": {
    "tags": []
   },
   "outputs": [],
   "source": [
    "fn.replace('.csv','_%s_SL2PND.csv'%(variableName))"
   ]
  },
  {
   "cell_type": "code",
   "execution_count": null,
   "id": "6a4742b9-6a7f-4e93-9c96-ab1e6e686273",
   "metadata": {},
   "outputs": [],
   "source": []
  }
 ],
 "metadata": {
  "kernelspec": {
   "display_name": "Python 3 (ipykernel)",
   "language": "python",
   "name": "python3"
  },
  "language_info": {
   "codemirror_mode": {
    "name": "ipython",
    "version": 3
   },
   "file_extension": ".py",
   "mimetype": "text/x-python",
   "name": "python",
   "nbconvert_exporter": "python",
   "pygments_lexer": "ipython3",
   "version": "3.10.9"
  }
 },
 "nbformat": 4,
 "nbformat_minor": 5
}
