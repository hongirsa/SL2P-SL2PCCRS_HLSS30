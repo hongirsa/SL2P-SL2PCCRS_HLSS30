{
 "cells": [
  {
   "cell_type": "code",
   "execution_count": 1,
   "id": "69134e44-a5d8-465c-bdff-919907ed1da7",
   "metadata": {
    "tags": []
   },
   "outputs": [],
   "source": [
    "import sys,os\n",
    "[sys.path.append(x[0]) for x in os.walk('tools')]\n",
    "import dictionariesSL2P\n",
    "import SL2P\n",
    "from matplotlib import pyplot as plt\n",
    "import os,numpy\n",
    "import rasterio\n",
    "import os\n",
    "import pandas as pd"
   ]
  },
  {
   "cell_type": "markdown",
   "id": "973b6bf7-eb46-4b62-8687-157590821b39",
   "metadata": {
    "tags": []
   },
   "source": [
    "### Initiation"
   ]
  },
  {
   "cell_type": "code",
   "execution_count": 18,
   "id": "636e3f15-5ed4-4ae6-8e60-7d0f2532bb1f",
   "metadata": {
    "tags": []
   },
   "outputs": [
    {
     "name": "stdout",
     "output_type": "stream",
     "text": [
      "SL2P input data format for S2_L2A data: ['cosVZA', 'cosSZA', 'cosRAA', 'B03', 'B04', 'B05', 'B06', 'B07', 'B8A', 'B11', 'B12']\n"
     ]
    }
   ],
   "source": [
    "variableName='LAI'\n",
    "# variableName='fAPAR'\n",
    "# variableName='fCOVER'\n",
    "# imageCollectionName=\"COPERNICUS/S2_SR_HARMONIZED\"\n",
    "# imageCollectionName=\"NASA/HLS/HLSL30/v002\"\n",
    "imageCollectionName=\"S2_L2A\"\n",
    "# fn='E:/vegetation/gee/notebook/CFS/sitesS2SR_1k_2021_apr_nov.csv'\n",
    "# fn='E:/vegetation/gee/notebook/CFS/sitesS2SR_1k_2022_apr_nov_fraction99.csv'\n",
    "# fn='E:/vegetation/gee/notebook/CFS/sitesS2SR_1k_2023_apr_nov_fraction99.csv'\n",
    "# fn='E:/vegetation/gee/notebook/CFS/sitesS2SR_6sites_2019_apr_nov_fraction99.csv'\n",
    "fn='E:/vegetation/gee/notebook/CFS/sitesS2SR_mixed_2019_apr_nov_fraction50_test.csv'\n",
    "# fn='E:/vegetation/gee/notebook/CFS/sitesHLSSR_mixed_2023_apr_nov_fraction50_test.csv'\n",
    "# fn='E:/vegetation/gee/notebook/CFS/sitesS2SR_mixed_2023_apr_nov_fraction50_test.csv'\n",
    "#### Input data Control ***-\n",
    "if variableName not in dictionariesSL2P.make_net_options().keys():\n",
    "    raise ValueError(('Supported vegetation valiables: %s'%(dictionariesSL2P.make_net_options().keys())))\n",
    "if imageCollectionName not in dictionariesSL2P.make_net_options()[variableName].keys():\n",
    "    raise ValueError(('Supported EO datasets: %s'%(dictionariesSL2P.make_net_options()[variableName].keys())))  \n",
    "       \n",
    "sl2p_inputs_bands=dictionariesSL2P.make_net_options()[variableName][imageCollectionName]['inputBands']  \n",
    "print ('SL2P input data format for %s data: %s' %(imageCollectionName,sl2p_inputs_bands))"
   ]
  },
  {
   "cell_type": "markdown",
   "id": "7cd581fc-5f65-46f0-af08-7b11265fd4b4",
   "metadata": {},
   "source": [
    "### 1- Read / prepare data"
   ]
  },
  {
   "cell_type": "code",
   "execution_count": 19,
   "id": "03e2159a-4a16-471c-8839-78cf58308168",
   "metadata": {
    "tags": []
   },
   "outputs": [
    {
     "data": {
      "text/html": [
       "<div>\n",
       "<style scoped>\n",
       "    .dataframe tbody tr th:only-of-type {\n",
       "        vertical-align: middle;\n",
       "    }\n",
       "\n",
       "    .dataframe tbody tr th {\n",
       "        vertical-align: top;\n",
       "    }\n",
       "\n",
       "    .dataframe thead th {\n",
       "        text-align: right;\n",
       "    }\n",
       "</style>\n",
       "<table border=\"1\" class=\"dataframe\">\n",
       "  <thead>\n",
       "    <tr style=\"text-align: right;\">\n",
       "      <th></th>\n",
       "      <th>Unnamed: 0</th>\n",
       "      <th>B1</th>\n",
       "      <th>B2</th>\n",
       "      <th>B3</th>\n",
       "      <th>B4</th>\n",
       "      <th>B5</th>\n",
       "      <th>B6</th>\n",
       "      <th>B7</th>\n",
       "      <th>B8</th>\n",
       "      <th>B8A</th>\n",
       "      <th>...</th>\n",
       "      <th>QA20</th>\n",
       "      <th>QA60</th>\n",
       "      <th>date</th>\n",
       "      <th>longitude</th>\n",
       "      <th>latitude</th>\n",
       "      <th>cosVZA</th>\n",
       "      <th>cosSZA</th>\n",
       "      <th>cosRAA</th>\n",
       "      <th>site</th>\n",
       "      <th>utc</th>\n",
       "    </tr>\n",
       "  </thead>\n",
       "  <tbody>\n",
       "    <tr>\n",
       "      <th>104470</th>\n",
       "      <td>104470</td>\n",
       "      <td>1965.0</td>\n",
       "      <td>2111.0</td>\n",
       "      <td>2209.0</td>\n",
       "      <td>2361.0</td>\n",
       "      <td>2683.0</td>\n",
       "      <td>3023.0</td>\n",
       "      <td>3173.0</td>\n",
       "      <td>3466.0</td>\n",
       "      <td>3494.0</td>\n",
       "      <td>...</td>\n",
       "      <td>0</td>\n",
       "      <td>0</td>\n",
       "      <td>1574785867858</td>\n",
       "      <td>-80.160826</td>\n",
       "      <td>44.097371</td>\n",
       "      <td>9872</td>\n",
       "      <td>4180</td>\n",
       "      <td>-4557</td>\n",
       "      <td>8507</td>\n",
       "      <td>2019-11-26 16:31:07.858</td>\n",
       "    </tr>\n",
       "    <tr>\n",
       "      <th>104471</th>\n",
       "      <td>104471</td>\n",
       "      <td>2057.0</td>\n",
       "      <td>1628.0</td>\n",
       "      <td>1759.0</td>\n",
       "      <td>1918.0</td>\n",
       "      <td>2224.0</td>\n",
       "      <td>2592.0</td>\n",
       "      <td>2740.0</td>\n",
       "      <td>2814.0</td>\n",
       "      <td>3056.0</td>\n",
       "      <td>...</td>\n",
       "      <td>0</td>\n",
       "      <td>0</td>\n",
       "      <td>1574785867858</td>\n",
       "      <td>-80.161570</td>\n",
       "      <td>44.097736</td>\n",
       "      <td>9872</td>\n",
       "      <td>4180</td>\n",
       "      <td>-4557</td>\n",
       "      <td>8507</td>\n",
       "      <td>2019-11-26 16:31:07.858</td>\n",
       "    </tr>\n",
       "    <tr>\n",
       "      <th>104472</th>\n",
       "      <td>104472</td>\n",
       "      <td>2249.0</td>\n",
       "      <td>1740.0</td>\n",
       "      <td>1794.0</td>\n",
       "      <td>2009.0</td>\n",
       "      <td>2409.0</td>\n",
       "      <td>2803.0</td>\n",
       "      <td>2986.0</td>\n",
       "      <td>3067.0</td>\n",
       "      <td>3310.0</td>\n",
       "      <td>...</td>\n",
       "      <td>0</td>\n",
       "      <td>0</td>\n",
       "      <td>1574785867858</td>\n",
       "      <td>-80.161320</td>\n",
       "      <td>44.097734</td>\n",
       "      <td>9872</td>\n",
       "      <td>4180</td>\n",
       "      <td>-4557</td>\n",
       "      <td>8507</td>\n",
       "      <td>2019-11-26 16:31:07.858</td>\n",
       "    </tr>\n",
       "  </tbody>\n",
       "</table>\n",
       "<p>3 rows × 32 columns</p>\n",
       "</div>"
      ],
      "text/plain": [
       "        Unnamed: 0      B1      B2      B3      B4      B5      B6      B7  \\\n",
       "104470      104470  1965.0  2111.0  2209.0  2361.0  2683.0  3023.0  3173.0   \n",
       "104471      104471  2057.0  1628.0  1759.0  1918.0  2224.0  2592.0  2740.0   \n",
       "104472      104472  2249.0  1740.0  1794.0  2009.0  2409.0  2803.0  2986.0   \n",
       "\n",
       "            B8     B8A  ...  QA20  QA60           date  longitude   latitude  \\\n",
       "104470  3466.0  3494.0  ...     0     0  1574785867858 -80.160826  44.097371   \n",
       "104471  2814.0  3056.0  ...     0     0  1574785867858 -80.161570  44.097736   \n",
       "104472  3067.0  3310.0  ...     0     0  1574785867858 -80.161320  44.097734   \n",
       "\n",
       "        cosVZA  cosSZA  cosRAA  site                      utc  \n",
       "104470    9872    4180   -4557  8507  2019-11-26 16:31:07.858  \n",
       "104471    9872    4180   -4557  8507  2019-11-26 16:31:07.858  \n",
       "104472    9872    4180   -4557  8507  2019-11-26 16:31:07.858  \n",
       "\n",
       "[3 rows x 32 columns]"
      ]
     },
     "execution_count": 19,
     "metadata": {},
     "output_type": "execute_result"
    }
   ],
   "source": [
    "data=pd.read_csv(fn)\n",
    "data.tail(3)\n",
    "# print('done')"
   ]
  },
  {
   "cell_type": "code",
   "execution_count": 20,
   "id": "d0892d9b-b63c-4715-9da0-d8ea19b4611b",
   "metadata": {},
   "outputs": [],
   "source": [
    "# list(data.columns.values)"
   ]
  },
  {
   "cell_type": "code",
   "execution_count": 21,
   "id": "88f6eb8a-2670-4d1d-a45a-841c45a82aa0",
   "metadata": {
    "tags": []
   },
   "outputs": [],
   "source": [
    "data.rename(columns={'B1': 'B01', 'B2': 'B02', 'B3': 'B03', 'B4': 'B04', 'B5': 'B05', 'B6': 'B06', 'B7': 'B07', 'B8': 'B08', 'B9': 'B09'}, inplace=True)"
   ]
  },
  {
   "cell_type": "code",
   "execution_count": 22,
   "id": "dcc2d1c8-cffe-452c-9514-0e7d77a788dc",
   "metadata": {},
   "outputs": [],
   "source": [
    "# rename column names\n",
    "data = data.rename(columns={'date': 'time', 'utc': 'Date'})"
   ]
  },
  {
   "cell_type": "code",
   "execution_count": 23,
   "id": "d19962c2-413e-432c-85cc-bc0ef5562084",
   "metadata": {
    "tags": []
   },
   "outputs": [],
   "source": [
    "# data[sl2p_inputs_bands].tail(3)"
   ]
  },
  {
   "cell_type": "code",
   "execution_count": 24,
   "id": "05cd45cb-2f7f-470c-8f49-87bbece7fdd5",
   "metadata": {
    "tags": []
   },
   "outputs": [],
   "source": [
    "data[sl2p_inputs_bands]=data[sl2p_inputs_bands]/10000"
   ]
  },
  {
   "cell_type": "code",
   "execution_count": 25,
   "id": "23db52d6-fcea-42d3-8f00-4ca1dfa0c955",
   "metadata": {
    "tags": []
   },
   "outputs": [
    {
     "data": {
      "text/html": [
       "<div>\n",
       "<style scoped>\n",
       "    .dataframe tbody tr th:only-of-type {\n",
       "        vertical-align: middle;\n",
       "    }\n",
       "\n",
       "    .dataframe tbody tr th {\n",
       "        vertical-align: top;\n",
       "    }\n",
       "\n",
       "    .dataframe thead th {\n",
       "        text-align: right;\n",
       "    }\n",
       "</style>\n",
       "<table border=\"1\" class=\"dataframe\">\n",
       "  <thead>\n",
       "    <tr style=\"text-align: right;\">\n",
       "      <th></th>\n",
       "      <th>cosVZA</th>\n",
       "      <th>cosSZA</th>\n",
       "      <th>cosRAA</th>\n",
       "      <th>B03</th>\n",
       "      <th>B04</th>\n",
       "      <th>B05</th>\n",
       "      <th>B06</th>\n",
       "      <th>B07</th>\n",
       "      <th>B8A</th>\n",
       "      <th>B11</th>\n",
       "      <th>B12</th>\n",
       "    </tr>\n",
       "  </thead>\n",
       "  <tbody>\n",
       "    <tr>\n",
       "      <th>104470</th>\n",
       "      <td>0.9872</td>\n",
       "      <td>0.418</td>\n",
       "      <td>-0.4557</td>\n",
       "      <td>0.2209</td>\n",
       "      <td>0.2361</td>\n",
       "      <td>0.2683</td>\n",
       "      <td>0.3023</td>\n",
       "      <td>0.3173</td>\n",
       "      <td>0.3494</td>\n",
       "      <td>0.4161</td>\n",
       "      <td>0.3640</td>\n",
       "    </tr>\n",
       "    <tr>\n",
       "      <th>104471</th>\n",
       "      <td>0.9872</td>\n",
       "      <td>0.418</td>\n",
       "      <td>-0.4557</td>\n",
       "      <td>0.1759</td>\n",
       "      <td>0.1918</td>\n",
       "      <td>0.2224</td>\n",
       "      <td>0.2592</td>\n",
       "      <td>0.2740</td>\n",
       "      <td>0.3056</td>\n",
       "      <td>0.3330</td>\n",
       "      <td>0.2783</td>\n",
       "    </tr>\n",
       "    <tr>\n",
       "      <th>104472</th>\n",
       "      <td>0.9872</td>\n",
       "      <td>0.418</td>\n",
       "      <td>-0.4557</td>\n",
       "      <td>0.1794</td>\n",
       "      <td>0.2009</td>\n",
       "      <td>0.2409</td>\n",
       "      <td>0.2803</td>\n",
       "      <td>0.2986</td>\n",
       "      <td>0.3310</td>\n",
       "      <td>0.3762</td>\n",
       "      <td>0.3252</td>\n",
       "    </tr>\n",
       "  </tbody>\n",
       "</table>\n",
       "</div>"
      ],
      "text/plain": [
       "        cosVZA  cosSZA  cosRAA     B03     B04     B05     B06     B07  \\\n",
       "104470  0.9872   0.418 -0.4557  0.2209  0.2361  0.2683  0.3023  0.3173   \n",
       "104471  0.9872   0.418 -0.4557  0.1759  0.1918  0.2224  0.2592  0.2740   \n",
       "104472  0.9872   0.418 -0.4557  0.1794  0.2009  0.2409  0.2803  0.2986   \n",
       "\n",
       "           B8A     B11     B12  \n",
       "104470  0.3494  0.4161  0.3640  \n",
       "104471  0.3056  0.3330  0.2783  \n",
       "104472  0.3310  0.3762  0.3252  "
      ]
     },
     "execution_count": 25,
     "metadata": {},
     "output_type": "execute_result"
    }
   ],
   "source": [
    "data[sl2p_inputs_bands].tail(3)"
   ]
  },
  {
   "cell_type": "code",
   "execution_count": 26,
   "id": "b607387e-5b3d-4026-8719-5548f6ed7339",
   "metadata": {},
   "outputs": [],
   "source": [
    "# divide 10000 for other bands.\n",
    "data[['B01', 'B02', 'B08','B09']] =data[['B01', 'B02', 'B08','B09']].div(10000)"
   ]
  },
  {
   "cell_type": "code",
   "execution_count": 27,
   "id": "fa85bde3-1d19-432e-9d32-2c3f18a5be4c",
   "metadata": {},
   "outputs": [],
   "source": [
    "# calculate NDVI =(NIR-R)/(NIR+R)\n",
    "data['NDVI']=(data['B08']-data['B04'])/(data['B08']+data['B04']) "
   ]
  },
  {
   "cell_type": "code",
   "execution_count": 28,
   "id": "4f599015-a2dd-43e4-b543-017582db216b",
   "metadata": {},
   "outputs": [],
   "source": [
    "# data.head(3)"
   ]
  },
  {
   "cell_type": "code",
   "execution_count": 29,
   "id": "4654d5ed-3256-4741-84d1-d0869180c66d",
   "metadata": {},
   "outputs": [],
   "source": [
    "# list(data.columns.values)"
   ]
  },
  {
   "cell_type": "markdown",
   "id": "f5f87402-034e-4bfc-a8cc-66d9e560bf8f",
   "metadata": {},
   "source": [
    "### 2 - Run SL2PV0 / export outputs"
   ]
  },
  {
   "cell_type": "code",
   "execution_count": 30,
   "id": "399b3e8f-5b36-4510-afb6-0241257c709e",
   "metadata": {
    "tags": []
   },
   "outputs": [
    {
     "name": "stdout",
     "output_type": "stream",
     "text": [
      "Estimating LAI from S2_L2A data using SL2P-V0 [Marie Weiss]\n",
      "Run SL2P...\n",
      "SL2P start: 2024-06-30 22:18:24.080702\n",
      "SL2P end: 2024-06-30 22:18:24.181647\n",
      "Generating sl2p input data flag\n",
      "Generating sl2p output product flag\n",
      "Done\n"
     ]
    },
    {
     "data": {
      "text/html": [
       "<div>\n",
       "<style scoped>\n",
       "    .dataframe tbody tr th:only-of-type {\n",
       "        vertical-align: middle;\n",
       "    }\n",
       "\n",
       "    .dataframe tbody tr th {\n",
       "        vertical-align: top;\n",
       "    }\n",
       "\n",
       "    .dataframe thead th {\n",
       "        text-align: right;\n",
       "    }\n",
       "</style>\n",
       "<table border=\"1\" class=\"dataframe\">\n",
       "  <thead>\n",
       "    <tr style=\"text-align: right;\">\n",
       "      <th></th>\n",
       "      <th>estimateLAI</th>\n",
       "      <th>networkID</th>\n",
       "      <th>errorLAI</th>\n",
       "      <th>QC_input</th>\n",
       "      <th>QC_output</th>\n",
       "    </tr>\n",
       "  </thead>\n",
       "  <tbody>\n",
       "    <tr>\n",
       "      <th>104470</th>\n",
       "      <td>0.046733</td>\n",
       "      <td>0</td>\n",
       "      <td>0.299255</td>\n",
       "      <td>0</td>\n",
       "      <td>0</td>\n",
       "    </tr>\n",
       "    <tr>\n",
       "      <th>104471</th>\n",
       "      <td>0.210904</td>\n",
       "      <td>0</td>\n",
       "      <td>0.261484</td>\n",
       "      <td>0</td>\n",
       "      <td>0</td>\n",
       "    </tr>\n",
       "    <tr>\n",
       "      <th>104472</th>\n",
       "      <td>0.281196</td>\n",
       "      <td>0</td>\n",
       "      <td>0.287869</td>\n",
       "      <td>0</td>\n",
       "      <td>0</td>\n",
       "    </tr>\n",
       "  </tbody>\n",
       "</table>\n",
       "</div>"
      ],
      "text/plain": [
       "        estimateLAI  networkID  errorLAI  QC_input  QC_output\n",
       "104470     0.046733          0  0.299255         0          0\n",
       "104471     0.210904          0  0.261484         0          0\n",
       "104472     0.281196          0  0.287869         0          0"
      ]
     },
     "execution_count": 30,
     "metadata": {},
     "output_type": "execute_result"
    }
   ],
   "source": [
    "DF=SL2P.SL2P(data,variableName,imageCollectionName,sl2p_inputs_bands)\n",
    "DF.tail(3)"
   ]
  },
  {
   "cell_type": "code",
   "execution_count": 15,
   "id": "6c861464-70a2-4854-90f4-7ac3a11793c5",
   "metadata": {
    "tags": []
   },
   "outputs": [
    {
     "data": {
      "text/plain": [
       "[<matplotlib.lines.Line2D at 0x1cd23ca0100>]"
      ]
     },
     "execution_count": 15,
     "metadata": {},
     "output_type": "execute_result"
    },
    {
     "data": {
      "image/png": "[encoded data removed]",
      "text/plain": [
       "<Figure size 640x480 with 1 Axes>"
      ]
     },
     "metadata": {},
     "output_type": "display_data"
    }
   ],
   "source": [
    "# plt.plot(DF['estimateLAI'],'.k')\n",
    "# plt.plot(DF['estimatefAPAR'],'.k')\n",
    "plt.plot(DF['estimatefCOVER'],'.k')"
   ]
  },
  {
   "cell_type": "code",
   "execution_count": 31,
   "id": "f981324b-0b3b-466f-b0ed-df58a311521d",
   "metadata": {},
   "outputs": [],
   "source": [
    "sr_list=['B01', 'B02', 'B03', 'B04', 'B05', 'B06', 'B07', 'B08', 'B8A', 'B09', 'B11', 'B12', 'longitude', 'latitude', 'site','Date', 'NDVI']\n",
    "para_list=['estimateLAI', 'errorLAI', 'QC_input', 'QC_output']\n",
    "# para_list=['estimatefAPAR', 'errorfAPAR', 'QC_input', 'QC_output']\n",
    "# para_list=['estimatefCOVER', 'errorfCOVER', 'QC_input', 'QC_output']"
   ]
  },
  {
   "cell_type": "code",
   "execution_count": 32,
   "id": "57325b80-be61-41f4-8a25-f44ceab9dfb1",
   "metadata": {
    "tags": []
   },
   "outputs": [],
   "source": [
    "#Export DF\n",
    "# data[['date', 'longitude', 'latitude']].join(DF).to_csv(fn.replace('.csv','_%s_SL2P.csv'%(variableName))) \n",
    "data[sr_list].join(DF[para_list]).to_csv(fn.replace('.csv','_%s_SL2P2.csv'%(variableName))) "
   ]
  },
  {
   "cell_type": "markdown",
   "id": "f33bfa5e-6073-4260-bb44-021ce6cea8b7",
   "metadata": {},
   "source": [
    "### 3 - Run SL2P-CCRS / export outputs"
   ]
  },
  {
   "cell_type": "code",
   "execution_count": null,
   "id": "006ea772-6eb3-4643-83be-5952ce9b7a22",
   "metadata": {
    "tags": []
   },
   "outputs": [],
   "source": [
    "DF=SL2P.SL2PCCRS(data,variableName,imageCollectionName,sl2p_inputs_bands)\n",
    "DF"
   ]
  },
  {
   "cell_type": "code",
   "execution_count": null,
   "id": "629126f8-7fd2-4ded-8644-aa5d6cdb7ccd",
   "metadata": {
    "tags": []
   },
   "outputs": [],
   "source": [
    "#Export DF\n",
    "data[['date', 'longitude', 'latitude']].join(DF).to_csv(fn.replace('.csv','_%s_SL2PCCRS.csv'%(variableName))) "
   ]
  },
  {
   "cell_type": "code",
   "execution_count": null,
   "id": "08bea44b-14ad-400f-b34c-c6569d959937",
   "metadata": {
    "tags": []
   },
   "outputs": [],
   "source": [
    "fn.replace('.csv','_%s_SL2PND.csv'%(variableName))"
   ]
  },
  {
   "cell_type": "code",
   "execution_count": null,
   "id": "6a4742b9-6a7f-4e93-9c96-ab1e6e686273",
   "metadata": {},
   "outputs": [],
   "source": []
  }
 ],
 "metadata": {
  "kernelspec": {
   "display_name": "Python 3 (ipykernel)",
   "language": "python",
   "name": "python3"
  },
  "language_info": {
   "codemirror_mode": {
    "name": "ipython",
    "version": 3
   },
   "file_extension": ".py",
   "mimetype": "text/x-python",
   "name": "python",
   "nbconvert_exporter": "python",
   "pygments_lexer": "ipython3",
   "version": "3.10.9"
  }
 },
 "nbformat": 4,
 "nbformat_minor": 5
}
