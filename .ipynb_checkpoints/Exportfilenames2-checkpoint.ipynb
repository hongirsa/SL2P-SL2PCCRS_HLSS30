{
 "cells": [
  {
   "cell_type": "code",
   "execution_count": 1,
   "id": "d5fcb6f0-e256-417b-affb-911e3ec974ef",
   "metadata": {},
   "outputs": [],
   "source": [
    "import os, csv\n",
    "from os import rename, listdir"
   ]
  },
  {
   "cell_type": "code",
   "execution_count": 2,
   "id": "940ee78f-0450-425c-8f9d-93185a599297",
   "metadata": {},
   "outputs": [
    {
     "name": "stdout",
     "output_type": "stream",
     "text": [
      "S2_FO_2007_2018_HW_2019_LAI_updated.csv\n",
      "S2_FO_2007_2018_HW_2020_LAI_updated.csv\n",
      "S2_FO_2007_2018_HW_2021_LAI_updated.csv\n",
      "S2_FO_2007_2018_HW_2022_LAI_updated.csv\n",
      "S2_FO_2007_2018_HW_2023_LAI_updated.csv\n",
      "S2_FO_2007_2018_mixed_2019_LAI_updated.csv\n",
      "S2_FO_2007_2018_mixed_2020_LAI_updated.csv\n",
      "S2_FO_2007_2018_mixed_2021_LAI_updated.csv\n",
      "S2_FO_2007_2018_mixed_2022_LAI_updated.csv\n",
      "S2_FO_2007_2018_mixed_2023_LAI_updated.csv\n",
      "S2_FO_2007_2018_SW_2019_LAI_updated.csv\n",
      "S2_FO_2007_2018_SW_2020_LAI_updated.csv\n",
      "S2_FO_2007_2018_SW_2021_LAI_updated.csv\n",
      "S2_FO_2007_2018_SW_2022_LAI_updated.csv\n",
      "S2_FO_2007_2018_SW_2023_LAI_updated.csv\n"
     ]
    }
   ],
   "source": [
    "with open(\"E:/vegetation/gee/notebook/CFS/processing/updates/S2_SR_LAI_filename.csv\", 'w') as f:\n",
    "    writer = csv.writer(f)\n",
    "    for path, dirs, files in os.walk(\"E:/vegetation/gee/notebook/CFS/processing/updates/S2\"):\n",
    "        # print (files)\n",
    "        for filename in files:\n",
    "            # print (filename)\n",
    "            if 'LAI' in filename:                \n",
    "                print (filename)\n",
    "                writer.writerow([filename])"
   ]
  },
  {
   "cell_type": "code",
   "execution_count": 3,
   "id": "2ec19a9b-73d2-4e21-b1d5-cd8f39ab0e85",
   "metadata": {},
   "outputs": [
    {
     "name": "stdout",
     "output_type": "stream",
     "text": [
      "S2_FO_2007_2018_HW_2019_fCOVER_updated.csv\n",
      "S2_FO_2007_2018_HW_2020_fCOVER_updated.csv\n",
      "S2_FO_2007_2018_HW_2021_fCOVER_updated.csv\n",
      "S2_FO_2007_2018_HW_2022_fCOVER_updated.csv\n",
      "S2_FO_2007_2018_HW_2023_fCOVER_updated.csv\n",
      "S2_FO_2007_2018_mixed_2019_fCOVER_updated.csv\n",
      "S2_FO_2007_2018_mixed_2020_fCOVER_updated.csv\n",
      "S2_FO_2007_2018_mixed_2021_fCOVER_updated.csv\n",
      "S2_FO_2007_2018_mixed_2022_fCOVER_updated.csv\n",
      "S2_FO_2007_2018_mixed_2023_fCOVER_updated.csv\n",
      "S2_FO_2007_2018_SW_2019_fCOVER_updated.csv\n",
      "S2_FO_2007_2018_SW_2020_fCOVER_updated.csv\n",
      "S2_FO_2007_2018_SW_2021_fCOVER_updated.csv\n",
      "S2_FO_2007_2018_SW_2022_fCOVER_updated.csv\n",
      "S2_FO_2007_2018_SW_2023_fCOVER_updated.csv\n"
     ]
    }
   ],
   "source": [
    "with open(\"E:/vegetation/gee/notebook/CFS/processing/updates/S2_SR_fCover_filename.csv\", 'w') as f:\n",
    "    writer = csv.writer(f)\n",
    "    for path, dirs, files in os.walk(\"E:/vegetation/gee/notebook/CFS/processing/updates/S2\"):\n",
    "        # print (files)\n",
    "        for filename in files:\n",
    "            # print (filename)\n",
    "            if 'fCOVER' in filename:                \n",
    "                print (filename)\n",
    "                writer.writerow([filename])"
   ]
  },
  {
   "cell_type": "code",
   "execution_count": 4,
   "id": "d949e020-647c-42e2-aedf-0b817e0be885",
   "metadata": {},
   "outputs": [
    {
     "name": "stdout",
     "output_type": "stream",
     "text": [
      "S2_FO_2007_2018_HW_2019_fAPAR_updated.csv\n",
      "S2_FO_2007_2018_HW_2020_fAPAR_updated.csv\n",
      "S2_FO_2007_2018_HW_2021_fAPAR_updated.csv\n",
      "S2_FO_2007_2018_HW_2022_fAPAR_updated.csv\n",
      "S2_FO_2007_2018_HW_2023_fAPAR_updated.csv\n",
      "S2_FO_2007_2018_mixed_2019_fAPAR_updated.csv\n",
      "S2_FO_2007_2018_mixed_2020_fAPAR_updated.csv\n",
      "S2_FO_2007_2018_mixed_2021_fAPAR_updated.csv\n",
      "S2_FO_2007_2018_mixed_2022_fAPAR_updated.csv\n",
      "S2_FO_2007_2018_mixed_2023_fAPAR_updated.csv\n",
      "S2_FO_2007_2018_SW_2019_fAPAR_updated.csv\n",
      "S2_FO_2007_2018_SW_2020_fAPAR_updated.csv\n",
      "S2_FO_2007_2018_SW_2021_fAPAR_updated.csv\n",
      "S2_FO_2007_2018_SW_2022_fAPAR_updated.csv\n",
      "S2_FO_2007_2018_SW_2023_fAPAR_updated.csv\n"
     ]
    }
   ],
   "source": [
    "with open(\"E:/vegetation/gee/notebook/CFS/processing/updates/S2_SR_fAPAR_filename.csv\", 'w') as f:\n",
    "    writer = csv.writer(f)\n",
    "    for path, dirs, files in os.walk(\"E:/vegetation/gee/notebook/CFS/processing/updates/S2\"):\n",
    "        # print (files)\n",
    "        for filename in files:\n",
    "            # print (filename)\n",
    "            if 'fAPAR' in filename:                \n",
    "                print (filename)\n",
    "                writer.writerow([filename])"
   ]
  },
  {
   "cell_type": "code",
   "execution_count": 5,
   "id": "57156541-560f-486e-93ca-7136e8114670",
   "metadata": {},
   "outputs": [
    {
     "name": "stdout",
     "output_type": "stream",
     "text": [
      "HLS_FO_2007_2018_HW_2014_LAI_updated.csv\n",
      "HLS_FO_2007_2018_HW_2015_LAI_updated.csv\n",
      "HLS_FO_2007_2018_HW_2016_LAI_updated.csv\n",
      "HLS_FO_2007_2018_HW_2017_LAI_updated.csv\n",
      "HLS_FO_2007_2018_HW_2018_LAI_updated.csv\n",
      "HLS_FO_2007_2018_HW_2019_LAI_updated.csv\n",
      "HLS_FO_2007_2018_HW_2020_LAI_updated.csv\n",
      "HLS_FO_2007_2018_HW_2021_LAI_updated.csv\n",
      "HLS_FO_2007_2018_HW_2022_LAI_updated.csv\n",
      "HLS_FO_2007_2018_HW_2023_LAI_updated.csv\n",
      "HLS_FO_2007_2018_mixed_2014_LAI_updated.csv\n",
      "HLS_FO_2007_2018_mixed_2015_LAI_updated.csv\n",
      "HLS_FO_2007_2018_mixed_2016_LAI_updated.csv\n",
      "HLS_FO_2007_2018_mixed_2017_LAI_updated.csv\n",
      "HLS_FO_2007_2018_mixed_2018_LAI_updated.csv\n",
      "HLS_FO_2007_2018_mixed_2019_LAI_updated.csv\n",
      "HLS_FO_2007_2018_mixed_2020_LAI_updated.csv\n",
      "HLS_FO_2007_2018_mixed_2021_LAI_updated.csv\n",
      "HLS_FO_2007_2018_mixed_2022_LAI_updated.csv\n",
      "HLS_FO_2007_2018_mixed_2023_LAI_updated.csv\n",
      "HLS_FO_2007_2018_SW_2014_LAI_updated.csv\n",
      "HLS_FO_2007_2018_SW_2015_LAI_updated.csv\n",
      "HLS_FO_2007_2018_SW_2016_LAI_updated.csv\n",
      "HLS_FO_2007_2018_SW_2017_LAI_updated.csv\n",
      "HLS_FO_2007_2018_SW_2018_LAI_updated.csv\n",
      "HLS_FO_2007_2018_SW_2019_LAI_updated.csv\n",
      "HLS_FO_2007_2018_SW_2020_LAI_updated.csv\n",
      "HLS_FO_2007_2018_SW_2021_LAI_updated.csv\n",
      "HLS_FO_2007_2018_SW_2022_LAI_updated.csv\n",
      "HLS_FO_2007_2018_SW_2023_LAI_updated.csv\n"
     ]
    }
   ],
   "source": [
    "with open(\"E:/vegetation/gee/notebook/CFS/processing/updates/HLS_SR_LAI_filename.csv\", 'w') as f:\n",
    "    writer = csv.writer(f)\n",
    "    for path, dirs, files in os.walk(\"E:/vegetation/gee/notebook/CFS/processing/updates/Landsat\"):\n",
    "        # print (files)\n",
    "        for filename in files:\n",
    "            # print (filename)\n",
    "            if 'LAI' in filename:                \n",
    "                print (filename)\n",
    "                writer.writerow([filename])"
   ]
  },
  {
   "cell_type": "code",
   "execution_count": 6,
   "id": "22b7ecaa-9ed4-4893-a078-dceba6738ff0",
   "metadata": {},
   "outputs": [
    {
     "name": "stdout",
     "output_type": "stream",
     "text": [
      "HLS_FO_2007_2018_HW_2014_fCOVER_updated.csv\n",
      "HLS_FO_2007_2018_HW_2015_fCOVER_updated.csv\n",
      "HLS_FO_2007_2018_HW_2016_fCOVER_updated.csv\n",
      "HLS_FO_2007_2018_HW_2017_fCOVER_updated.csv\n",
      "HLS_FO_2007_2018_HW_2018_fCOVER_updated.csv\n",
      "HLS_FO_2007_2018_HW_2019_fCOVER_updated.csv\n",
      "HLS_FO_2007_2018_HW_2020_fCOVER_updated.csv\n",
      "HLS_FO_2007_2018_HW_2021_fCOVER_updated.csv\n",
      "HLS_FO_2007_2018_HW_2022_fCOVER_updated.csv\n",
      "HLS_FO_2007_2018_HW_2023_fCOVER_updated.csv\n",
      "HLS_FO_2007_2018_mixed_2014_fCOVER_updated.csv\n",
      "HLS_FO_2007_2018_mixed_2015_fCOVER_updated.csv\n",
      "HLS_FO_2007_2018_mixed_2016_fCOVER_updated.csv\n",
      "HLS_FO_2007_2018_mixed_2017_fCOVER_updated.csv\n",
      "HLS_FO_2007_2018_mixed_2018_fCOVER_updated.csv\n",
      "HLS_FO_2007_2018_mixed_2019_fCOVER_updated.csv\n",
      "HLS_FO_2007_2018_mixed_2020_fCOVER_updated.csv\n",
      "HLS_FO_2007_2018_mixed_2021_fCOVER_updated.csv\n",
      "HLS_FO_2007_2018_mixed_2022_fCOVER_updated.csv\n",
      "HLS_FO_2007_2018_mixed_2023_fCOVER_updated.csv\n",
      "HLS_FO_2007_2018_SW_2014_fCOVER_updated.csv\n",
      "HLS_FO_2007_2018_SW_2015_fCOVER_updated.csv\n",
      "HLS_FO_2007_2018_SW_2016_fCOVER_updated.csv\n",
      "HLS_FO_2007_2018_SW_2017_fCOVER_updated.csv\n",
      "HLS_FO_2007_2018_SW_2018_fCOVER_updated.csv\n",
      "HLS_FO_2007_2018_SW_2019_fCOVER_updated.csv\n",
      "HLS_FO_2007_2018_SW_2020_fCOVER_updated.csv\n",
      "HLS_FO_2007_2018_SW_2021_fCOVER_updated.csv\n",
      "HLS_FO_2007_2018_SW_2022_fCOVER_updated.csv\n",
      "HLS_FO_2007_2018_SW_2023_fCOVER_updated.csv\n"
     ]
    }
   ],
   "source": [
    "with open(\"E:/vegetation/gee/notebook/CFS/processing/updates/HLS_SR_fCOVER_filename.csv\", 'w') as f:\n",
    "    writer = csv.writer(f)\n",
    "    for path, dirs, files in os.walk(\"E:/vegetation/gee/notebook/CFS/processing/updates/Landsat\"):\n",
    "        # print (files)\n",
    "        for filename in files:\n",
    "            # print (filename)\n",
    "            if 'fCOVER' in filename:                \n",
    "                print (filename)\n",
    "                writer.writerow([filename])"
   ]
  },
  {
   "cell_type": "code",
   "execution_count": 7,
   "id": "6dd441c8-b3b6-4aae-8aad-223b69111754",
   "metadata": {},
   "outputs": [
    {
     "name": "stdout",
     "output_type": "stream",
     "text": [
      "HLS_FO_2007_2018_HW_2014_fAPAR_updated.csv\n",
      "HLS_FO_2007_2018_HW_2015_fAPAR_updated.csv\n",
      "HLS_FO_2007_2018_HW_2016_fAPAR_updated.csv\n",
      "HLS_FO_2007_2018_HW_2017_fAPAR_updated.csv\n",
      "HLS_FO_2007_2018_HW_2018_fAPAR_updated.csv\n",
      "HLS_FO_2007_2018_HW_2019_fAPAR_updated.csv\n",
      "HLS_FO_2007_2018_HW_2020_fAPAR_updated.csv\n",
      "HLS_FO_2007_2018_HW_2021_fAPAR_updated.csv\n",
      "HLS_FO_2007_2018_HW_2022_fAPAR_updated.csv\n",
      "HLS_FO_2007_2018_HW_2023_fAPAR_updated.csv\n",
      "HLS_FO_2007_2018_mixed_2014_fAPAR_updated.csv\n",
      "HLS_FO_2007_2018_mixed_2015_fAPAR_updated.csv\n",
      "HLS_FO_2007_2018_mixed_2016_fAPAR_updated.csv\n",
      "HLS_FO_2007_2018_mixed_2017_fAPAR_updated.csv\n",
      "HLS_FO_2007_2018_mixed_2018_fAPAR_updated.csv\n",
      "HLS_FO_2007_2018_mixed_2019_fAPAR_updated.csv\n",
      "HLS_FO_2007_2018_mixed_2020_fAPAR_updated.csv\n",
      "HLS_FO_2007_2018_mixed_2021_fAPAR_updated.csv\n",
      "HLS_FO_2007_2018_mixed_2022_fAPAR_updated.csv\n",
      "HLS_FO_2007_2018_mixed_2023_fAPAR_updated.csv\n",
      "HLS_FO_2007_2018_SW_2014_fAPAR_updated.csv\n",
      "HLS_FO_2007_2018_SW_2015_fAPAR_updated.csv\n",
      "HLS_FO_2007_2018_SW_2016_fAPAR_updated.csv\n",
      "HLS_FO_2007_2018_SW_2017_fAPAR_updated.csv\n",
      "HLS_FO_2007_2018_SW_2018_fAPAR_updated.csv\n",
      "HLS_FO_2007_2018_SW_2019_fAPAR_updated.csv\n",
      "HLS_FO_2007_2018_SW_2020_fAPAR_updated.csv\n",
      "HLS_FO_2007_2018_SW_2021_fAPAR_updated.csv\n",
      "HLS_FO_2007_2018_SW_2022_fAPAR_updated.csv\n",
      "HLS_FO_2007_2018_SW_2023_fAPAR_updated.csv\n"
     ]
    }
   ],
   "source": [
    "with open(\"E:/vegetation/gee/notebook/CFS/processing/updates/HLS_SR_fAPAR_filename.csv\", 'w') as f:\n",
    "    writer = csv.writer(f)\n",
    "    for path, dirs, files in os.walk(\"E:/vegetation/gee/notebook/CFS/processing/updates/Landsat\"):\n",
    "        # print (files)\n",
    "        for filename in files:\n",
    "            # print (filename)\n",
    "            if 'fAPAR' in filename:                \n",
    "                print (filename)\n",
    "                writer.writerow([filename])"
   ]
  },
  {
   "cell_type": "code",
   "execution_count": null,
   "id": "5f645e2c-42f2-4500-91e2-5d2d5592d85b",
   "metadata": {},
   "outputs": [],
   "source": []
  }
 ],
 "metadata": {
  "kernelspec": {
   "display_name": "Python 3 (ipykernel)",
   "language": "python",
   "name": "python3"
  },
  "language_info": {
   "codemirror_mode": {
    "name": "ipython",
    "version": 3
   },
   "file_extension": ".py",
   "mimetype": "text/x-python",
   "name": "python",
   "nbconvert_exporter": "python",
   "pygments_lexer": "ipython3",
   "version": "3.10.9"
  }
 },
 "nbformat": 4,
 "nbformat_minor": 5
}
