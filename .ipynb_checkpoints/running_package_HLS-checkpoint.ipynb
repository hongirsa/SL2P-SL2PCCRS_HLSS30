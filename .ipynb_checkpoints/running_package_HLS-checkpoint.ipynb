{
 "cells": [
  {
   "cell_type": "code",
   "execution_count": 1,
   "id": "69134e44-a5d8-465c-bdff-919907ed1da7",
   "metadata": {
    "tags": []
   },
   "outputs": [],
   "source": [
    "import sys,os\n",
    "[sys.path.append(x[0]) for x in os.walk('tools')]\n",
    "import dictionariesSL2P\n",
    "import SL2P\n",
    "from matplotlib import pyplot as plt\n",
    "import os,numpy\n",
    "import rasterio\n",
    "import os\n",
    "import pandas as pd"
   ]
  },
  {
   "cell_type": "markdown",
   "id": "973b6bf7-eb46-4b62-8687-157590821b39",
   "metadata": {
    "tags": []
   },
   "source": [
    "### Initiation"
   ]
  },
  {
   "cell_type": "code",
   "execution_count": 2,
   "id": "636e3f15-5ed4-4ae6-8e60-7d0f2532bb1f",
   "metadata": {
    "tags": []
   },
   "outputs": [
    {
     "name": "stdout",
     "output_type": "stream",
     "text": [
      "SL2P input data format for HLSL30 data: ['cosVZA', 'cosSZA', 'cosRAA', 'B3', 'B4', 'B5', 'B6', 'B7']\n"
     ]
    }
   ],
   "source": [
    "variableName='LAI'\n",
    "# variableName='fAPAR'\n",
    "# variableName='fCOVER'\n",
    "# imageCollectionName=\"COPERNICUS/S2_SR_HARMONIZED\"\n",
    "imageCollectionName=\"HLSL30\"\n",
    "# imageCollectionName=\"NASA/HLS/HLSL30/v002\"\n",
    "# imageCollectionName=\"S2_L2A\"\n",
    "# fn='R:/forDjamai/sitesS2SR_1k_2021_apr_nov.csv'\n",
    "fn='E:/vegetation/gee/notebook/CFS/sitesHLSSR_1k_2021_apr_nov.csv'\n",
    "#### Input data Control ***-\n",
    "if variableName not in dictionariesSL2P.make_net_options().keys():\n",
    "    raise ValueError(('Supported vegetation valiables: %s'%(dictionariesSL2P.make_net_options().keys())))\n",
    "if imageCollectionName not in dictionariesSL2P.make_net_options()[variableName].keys():\n",
    "    raise ValueError(('Supported EO datasets: %s'%(dictionariesSL2P.make_net_options()[variableName].keys())))  \n",
    "       \n",
    "sl2p_inputs_bands=dictionariesSL2P.make_net_options()[variableName][imageCollectionName]['inputBands']  \n",
    "print ('SL2P input data format for %s data: %s' %(imageCollectionName,sl2p_inputs_bands))"
   ]
  },
  {
   "cell_type": "markdown",
   "id": "7cd581fc-5f65-46f0-af08-7b11265fd4b4",
   "metadata": {},
   "source": [
    "### 1- Read / prepare data"
   ]
  },
  {
   "cell_type": "code",
   "execution_count": 3,
   "id": "03e2159a-4a16-471c-8839-78cf58308168",
   "metadata": {
    "tags": []
   },
   "outputs": [
    {
     "data": {
      "text/html": [
       "<div>\n",
       "<style scoped>\n",
       "    .dataframe tbody tr th:only-of-type {\n",
       "        vertical-align: middle;\n",
       "    }\n",
       "\n",
       "    .dataframe tbody tr th {\n",
       "        vertical-align: top;\n",
       "    }\n",
       "\n",
       "    .dataframe thead th {\n",
       "        text-align: right;\n",
       "    }\n",
       "</style>\n",
       "<table border=\"1\" class=\"dataframe\">\n",
       "  <thead>\n",
       "    <tr style=\"text-align: right;\">\n",
       "      <th></th>\n",
       "      <th>Unnamed: 0</th>\n",
       "      <th>B1</th>\n",
       "      <th>B2</th>\n",
       "      <th>B3</th>\n",
       "      <th>B4</th>\n",
       "      <th>B5</th>\n",
       "      <th>B6</th>\n",
       "      <th>B7</th>\n",
       "      <th>B9</th>\n",
       "      <th>B10</th>\n",
       "      <th>...</th>\n",
       "      <th>VZA</th>\n",
       "      <th>VAA</th>\n",
       "      <th>date</th>\n",
       "      <th>longitude</th>\n",
       "      <th>latitude</th>\n",
       "      <th>cosVZA</th>\n",
       "      <th>cosSZA</th>\n",
       "      <th>cosRAA</th>\n",
       "      <th>site</th>\n",
       "      <th>utc</th>\n",
       "    </tr>\n",
       "  </thead>\n",
       "  <tbody>\n",
       "    <tr>\n",
       "      <th>318153</th>\n",
       "      <td>318153</td>\n",
       "      <td>0.0244</td>\n",
       "      <td>0.0315</td>\n",
       "      <td>0.0648</td>\n",
       "      <td>0.0507</td>\n",
       "      <td>0.3496</td>\n",
       "      <td>0.2097</td>\n",
       "      <td>0.1117</td>\n",
       "      <td>0.0013</td>\n",
       "      <td>7.83</td>\n",
       "      <td>...</td>\n",
       "      <td>1.71</td>\n",
       "      <td>291.78</td>\n",
       "      <td>1.635783e+12</td>\n",
       "      <td>-81.569821</td>\n",
       "      <td>42.800739</td>\n",
       "      <td>9995.0</td>\n",
       "      <td>5144.0</td>\n",
       "      <td>0.0</td>\n",
       "      <td>2013</td>\n",
       "      <td>2021-11-01 16:10:24</td>\n",
       "    </tr>\n",
       "    <tr>\n",
       "      <th>318154</th>\n",
       "      <td>318154</td>\n",
       "      <td>0.0301</td>\n",
       "      <td>0.0428</td>\n",
       "      <td>0.0678</td>\n",
       "      <td>0.0745</td>\n",
       "      <td>0.2516</td>\n",
       "      <td>0.2344</td>\n",
       "      <td>0.1458</td>\n",
       "      <td>0.0015</td>\n",
       "      <td>8.15</td>\n",
       "      <td>...</td>\n",
       "      <td>1.70</td>\n",
       "      <td>291.80</td>\n",
       "      <td>1.635783e+12</td>\n",
       "      <td>-81.570557</td>\n",
       "      <td>42.801005</td>\n",
       "      <td>9995.0</td>\n",
       "      <td>5144.0</td>\n",
       "      <td>0.0</td>\n",
       "      <td>2013</td>\n",
       "      <td>2021-11-01 16:10:24</td>\n",
       "    </tr>\n",
       "    <tr>\n",
       "      <th>318155</th>\n",
       "      <td>318155</td>\n",
       "      <td>0.0060</td>\n",
       "      <td>0.0124</td>\n",
       "      <td>0.0464</td>\n",
       "      <td>0.0369</td>\n",
       "      <td>0.3038</td>\n",
       "      <td>0.2089</td>\n",
       "      <td>0.1070</td>\n",
       "      <td>0.0011</td>\n",
       "      <td>8.03</td>\n",
       "      <td>...</td>\n",
       "      <td>1.71</td>\n",
       "      <td>291.79</td>\n",
       "      <td>1.635783e+12</td>\n",
       "      <td>-81.570190</td>\n",
       "      <td>42.801007</td>\n",
       "      <td>9995.0</td>\n",
       "      <td>5144.0</td>\n",
       "      <td>0.0</td>\n",
       "      <td>2013</td>\n",
       "      <td>2021-11-01 16:10:24</td>\n",
       "    </tr>\n",
       "  </tbody>\n",
       "</table>\n",
       "<p>3 rows × 24 columns</p>\n",
       "</div>"
      ],
      "text/plain": [
       "        Unnamed: 0      B1      B2      B3      B4      B5      B6      B7  \\\n",
       "318153      318153  0.0244  0.0315  0.0648  0.0507  0.3496  0.2097  0.1117   \n",
       "318154      318154  0.0301  0.0428  0.0678  0.0745  0.2516  0.2344  0.1458   \n",
       "318155      318155  0.0060  0.0124  0.0464  0.0369  0.3038  0.2089  0.1070   \n",
       "\n",
       "            B9   B10  ...   VZA     VAA          date  longitude   latitude  \\\n",
       "318153  0.0013  7.83  ...  1.71  291.78  1.635783e+12 -81.569821  42.800739   \n",
       "318154  0.0015  8.15  ...  1.70  291.80  1.635783e+12 -81.570557  42.801005   \n",
       "318155  0.0011  8.03  ...  1.71  291.79  1.635783e+12 -81.570190  42.801007   \n",
       "\n",
       "        cosVZA  cosSZA  cosRAA  site                  utc  \n",
       "318153  9995.0  5144.0     0.0  2013  2021-11-01 16:10:24  \n",
       "318154  9995.0  5144.0     0.0  2013  2021-11-01 16:10:24  \n",
       "318155  9995.0  5144.0     0.0  2013  2021-11-01 16:10:24  \n",
       "\n",
       "[3 rows x 24 columns]"
      ]
     },
     "execution_count": 3,
     "metadata": {},
     "output_type": "execute_result"
    }
   ],
   "source": [
    "data=pd.read_csv(fn)\n",
    "data.tail(3)\n",
    "# print('done')"
   ]
  },
  {
   "cell_type": "code",
   "execution_count": 4,
   "id": "465390ae-65c6-4843-b7bf-df09dc9cee78",
   "metadata": {},
   "outputs": [
    {
     "data": {
      "text/plain": [
       "['Unnamed: 0',\n",
       " 'B1',\n",
       " 'B2',\n",
       " 'B3',\n",
       " 'B4',\n",
       " 'B5',\n",
       " 'B6',\n",
       " 'B7',\n",
       " 'B9',\n",
       " 'B10',\n",
       " 'B11',\n",
       " 'Fmask',\n",
       " 'SZA',\n",
       " 'SAA',\n",
       " 'VZA',\n",
       " 'VAA',\n",
       " 'date',\n",
       " 'longitude',\n",
       " 'latitude',\n",
       " 'cosVZA',\n",
       " 'cosSZA',\n",
       " 'cosRAA',\n",
       " 'site',\n",
       " 'utc']"
      ]
     },
     "execution_count": 4,
     "metadata": {},
     "output_type": "execute_result"
    }
   ],
   "source": [
    "# list(data.columns.values)"
   ]
  },
  {
   "cell_type": "code",
   "execution_count": 5,
   "id": "ad9543d0-8627-4e4a-bfe4-0f48d26d080e",
   "metadata": {},
   "outputs": [],
   "source": [
    "data = data.rename(columns={'date': 'time', 'utc': 'Date'})"
   ]
  },
  {
   "cell_type": "code",
   "execution_count": 6,
   "id": "9539c962-0d72-49f5-bd24-e9d74a3c4eac",
   "metadata": {},
   "outputs": [
    {
     "data": {
      "text/html": [
       "<div>\n",
       "<style scoped>\n",
       "    .dataframe tbody tr th:only-of-type {\n",
       "        vertical-align: middle;\n",
       "    }\n",
       "\n",
       "    .dataframe tbody tr th {\n",
       "        vertical-align: top;\n",
       "    }\n",
       "\n",
       "    .dataframe thead th {\n",
       "        text-align: right;\n",
       "    }\n",
       "</style>\n",
       "<table border=\"1\" class=\"dataframe\">\n",
       "  <thead>\n",
       "    <tr style=\"text-align: right;\">\n",
       "      <th></th>\n",
       "      <th>Unnamed: 0</th>\n",
       "      <th>B1</th>\n",
       "      <th>B2</th>\n",
       "      <th>B3</th>\n",
       "      <th>B4</th>\n",
       "      <th>B5</th>\n",
       "      <th>B6</th>\n",
       "      <th>B7</th>\n",
       "      <th>B9</th>\n",
       "      <th>B10</th>\n",
       "      <th>...</th>\n",
       "      <th>VZA</th>\n",
       "      <th>VAA</th>\n",
       "      <th>time</th>\n",
       "      <th>longitude</th>\n",
       "      <th>latitude</th>\n",
       "      <th>cosVZA</th>\n",
       "      <th>cosSZA</th>\n",
       "      <th>cosRAA</th>\n",
       "      <th>site</th>\n",
       "      <th>Date</th>\n",
       "    </tr>\n",
       "  </thead>\n",
       "  <tbody>\n",
       "    <tr>\n",
       "      <th>318153</th>\n",
       "      <td>318153</td>\n",
       "      <td>0.0244</td>\n",
       "      <td>0.0315</td>\n",
       "      <td>0.0648</td>\n",
       "      <td>0.0507</td>\n",
       "      <td>0.3496</td>\n",
       "      <td>0.2097</td>\n",
       "      <td>0.1117</td>\n",
       "      <td>0.0013</td>\n",
       "      <td>7.83</td>\n",
       "      <td>...</td>\n",
       "      <td>1.71</td>\n",
       "      <td>291.78</td>\n",
       "      <td>1.635783e+12</td>\n",
       "      <td>-81.569821</td>\n",
       "      <td>42.800739</td>\n",
       "      <td>9995.0</td>\n",
       "      <td>5144.0</td>\n",
       "      <td>0.0</td>\n",
       "      <td>2013</td>\n",
       "      <td>2021-11-01 16:10:24</td>\n",
       "    </tr>\n",
       "    <tr>\n",
       "      <th>318154</th>\n",
       "      <td>318154</td>\n",
       "      <td>0.0301</td>\n",
       "      <td>0.0428</td>\n",
       "      <td>0.0678</td>\n",
       "      <td>0.0745</td>\n",
       "      <td>0.2516</td>\n",
       "      <td>0.2344</td>\n",
       "      <td>0.1458</td>\n",
       "      <td>0.0015</td>\n",
       "      <td>8.15</td>\n",
       "      <td>...</td>\n",
       "      <td>1.70</td>\n",
       "      <td>291.80</td>\n",
       "      <td>1.635783e+12</td>\n",
       "      <td>-81.570557</td>\n",
       "      <td>42.801005</td>\n",
       "      <td>9995.0</td>\n",
       "      <td>5144.0</td>\n",
       "      <td>0.0</td>\n",
       "      <td>2013</td>\n",
       "      <td>2021-11-01 16:10:24</td>\n",
       "    </tr>\n",
       "    <tr>\n",
       "      <th>318155</th>\n",
       "      <td>318155</td>\n",
       "      <td>0.0060</td>\n",
       "      <td>0.0124</td>\n",
       "      <td>0.0464</td>\n",
       "      <td>0.0369</td>\n",
       "      <td>0.3038</td>\n",
       "      <td>0.2089</td>\n",
       "      <td>0.1070</td>\n",
       "      <td>0.0011</td>\n",
       "      <td>8.03</td>\n",
       "      <td>...</td>\n",
       "      <td>1.71</td>\n",
       "      <td>291.79</td>\n",
       "      <td>1.635783e+12</td>\n",
       "      <td>-81.570190</td>\n",
       "      <td>42.801007</td>\n",
       "      <td>9995.0</td>\n",
       "      <td>5144.0</td>\n",
       "      <td>0.0</td>\n",
       "      <td>2013</td>\n",
       "      <td>2021-11-01 16:10:24</td>\n",
       "    </tr>\n",
       "  </tbody>\n",
       "</table>\n",
       "<p>3 rows × 24 columns</p>\n",
       "</div>"
      ],
      "text/plain": [
       "        Unnamed: 0      B1      B2      B3      B4      B5      B6      B7  \\\n",
       "318153      318153  0.0244  0.0315  0.0648  0.0507  0.3496  0.2097  0.1117   \n",
       "318154      318154  0.0301  0.0428  0.0678  0.0745  0.2516  0.2344  0.1458   \n",
       "318155      318155  0.0060  0.0124  0.0464  0.0369  0.3038  0.2089  0.1070   \n",
       "\n",
       "            B9   B10  ...   VZA     VAA          time  longitude   latitude  \\\n",
       "318153  0.0013  7.83  ...  1.71  291.78  1.635783e+12 -81.569821  42.800739   \n",
       "318154  0.0015  8.15  ...  1.70  291.80  1.635783e+12 -81.570557  42.801005   \n",
       "318155  0.0011  8.03  ...  1.71  291.79  1.635783e+12 -81.570190  42.801007   \n",
       "\n",
       "        cosVZA  cosSZA  cosRAA  site                 Date  \n",
       "318153  9995.0  5144.0     0.0  2013  2021-11-01 16:10:24  \n",
       "318154  9995.0  5144.0     0.0  2013  2021-11-01 16:10:24  \n",
       "318155  9995.0  5144.0     0.0  2013  2021-11-01 16:10:24  \n",
       "\n",
       "[3 rows x 24 columns]"
      ]
     },
     "execution_count": 6,
     "metadata": {},
     "output_type": "execute_result"
    }
   ],
   "source": [
    "# data.tail(3)"
   ]
  },
  {
   "cell_type": "code",
   "execution_count": 5,
   "id": "88f6eb8a-2670-4d1d-a45a-841c45a82aa0",
   "metadata": {
    "tags": []
   },
   "outputs": [],
   "source": [
    "# data.rename(columns={'B1': 'B01', 'B2': 'B02', 'B3': 'B03', 'B4': 'B04', 'B5': 'B05', 'B6': 'B06', 'B7': 'B07', 'B8': 'B08'}, inplace=True)"
   ]
  },
  {
   "cell_type": "code",
   "execution_count": 7,
   "id": "d19962c2-413e-432c-85cc-bc0ef5562084",
   "metadata": {
    "tags": []
   },
   "outputs": [
    {
     "data": {
      "text/html": [
       "<div>\n",
       "<style scoped>\n",
       "    .dataframe tbody tr th:only-of-type {\n",
       "        vertical-align: middle;\n",
       "    }\n",
       "\n",
       "    .dataframe tbody tr th {\n",
       "        vertical-align: top;\n",
       "    }\n",
       "\n",
       "    .dataframe thead th {\n",
       "        text-align: right;\n",
       "    }\n",
       "</style>\n",
       "<table border=\"1\" class=\"dataframe\">\n",
       "  <thead>\n",
       "    <tr style=\"text-align: right;\">\n",
       "      <th></th>\n",
       "      <th>cosVZA</th>\n",
       "      <th>cosSZA</th>\n",
       "      <th>cosRAA</th>\n",
       "      <th>B3</th>\n",
       "      <th>B4</th>\n",
       "      <th>B5</th>\n",
       "      <th>B6</th>\n",
       "      <th>B7</th>\n",
       "    </tr>\n",
       "  </thead>\n",
       "  <tbody>\n",
       "    <tr>\n",
       "      <th>318153</th>\n",
       "      <td>9995.0</td>\n",
       "      <td>5144.0</td>\n",
       "      <td>0.0</td>\n",
       "      <td>0.0648</td>\n",
       "      <td>0.0507</td>\n",
       "      <td>0.3496</td>\n",
       "      <td>0.2097</td>\n",
       "      <td>0.1117</td>\n",
       "    </tr>\n",
       "    <tr>\n",
       "      <th>318154</th>\n",
       "      <td>9995.0</td>\n",
       "      <td>5144.0</td>\n",
       "      <td>0.0</td>\n",
       "      <td>0.0678</td>\n",
       "      <td>0.0745</td>\n",
       "      <td>0.2516</td>\n",
       "      <td>0.2344</td>\n",
       "      <td>0.1458</td>\n",
       "    </tr>\n",
       "    <tr>\n",
       "      <th>318155</th>\n",
       "      <td>9995.0</td>\n",
       "      <td>5144.0</td>\n",
       "      <td>0.0</td>\n",
       "      <td>0.0464</td>\n",
       "      <td>0.0369</td>\n",
       "      <td>0.3038</td>\n",
       "      <td>0.2089</td>\n",
       "      <td>0.1070</td>\n",
       "    </tr>\n",
       "  </tbody>\n",
       "</table>\n",
       "</div>"
      ],
      "text/plain": [
       "        cosVZA  cosSZA  cosRAA      B3      B4      B5      B6      B7\n",
       "318153  9995.0  5144.0     0.0  0.0648  0.0507  0.3496  0.2097  0.1117\n",
       "318154  9995.0  5144.0     0.0  0.0678  0.0745  0.2516  0.2344  0.1458\n",
       "318155  9995.0  5144.0     0.0  0.0464  0.0369  0.3038  0.2089  0.1070"
      ]
     },
     "execution_count": 7,
     "metadata": {},
     "output_type": "execute_result"
    }
   ],
   "source": [
    "# data[sl2p_inputs_bands].tail(3)"
   ]
  },
  {
   "cell_type": "code",
   "execution_count": 8,
   "id": "05cd45cb-2f7f-470c-8f49-87bbece7fdd5",
   "metadata": {
    "tags": []
   },
   "outputs": [],
   "source": [
    "# data[sl2p_inputs_bands]=data[sl2p_inputs_bands]/10000\n",
    "# data['cosVZA']=data['cosVZA']/10000\n",
    "# data['cosSZA']=data['cosSZA']/10000\n",
    "# data['cosRAA']=data['cosRAA']/10000\n",
    "data[['cosVZA','cosSZA','cosRAA']]/=10000"
   ]
  },
  {
   "cell_type": "code",
   "execution_count": 9,
   "id": "f0ad6f57-1336-4ae2-ac94-7d43ce9eba44",
   "metadata": {},
   "outputs": [],
   "source": [
    "data['NDVI']=(data['B5']-data['B4'])/(data['B5']+data['B4']) "
   ]
  },
  {
   "cell_type": "code",
   "execution_count": 10,
   "id": "23db52d6-fcea-42d3-8f00-4ca1dfa0c955",
   "metadata": {
    "tags": []
   },
   "outputs": [
    {
     "data": {
      "text/html": [
       "<div>\n",
       "<style scoped>\n",
       "    .dataframe tbody tr th:only-of-type {\n",
       "        vertical-align: middle;\n",
       "    }\n",
       "\n",
       "    .dataframe tbody tr th {\n",
       "        vertical-align: top;\n",
       "    }\n",
       "\n",
       "    .dataframe thead th {\n",
       "        text-align: right;\n",
       "    }\n",
       "</style>\n",
       "<table border=\"1\" class=\"dataframe\">\n",
       "  <thead>\n",
       "    <tr style=\"text-align: right;\">\n",
       "      <th></th>\n",
       "      <th>cosVZA</th>\n",
       "      <th>cosSZA</th>\n",
       "      <th>cosRAA</th>\n",
       "      <th>B3</th>\n",
       "      <th>B4</th>\n",
       "      <th>B5</th>\n",
       "      <th>B6</th>\n",
       "      <th>B7</th>\n",
       "    </tr>\n",
       "  </thead>\n",
       "  <tbody>\n",
       "    <tr>\n",
       "      <th>318153</th>\n",
       "      <td>0.9995</td>\n",
       "      <td>0.5144</td>\n",
       "      <td>0.0</td>\n",
       "      <td>0.0648</td>\n",
       "      <td>0.0507</td>\n",
       "      <td>0.3496</td>\n",
       "      <td>0.2097</td>\n",
       "      <td>0.1117</td>\n",
       "    </tr>\n",
       "    <tr>\n",
       "      <th>318154</th>\n",
       "      <td>0.9995</td>\n",
       "      <td>0.5144</td>\n",
       "      <td>0.0</td>\n",
       "      <td>0.0678</td>\n",
       "      <td>0.0745</td>\n",
       "      <td>0.2516</td>\n",
       "      <td>0.2344</td>\n",
       "      <td>0.1458</td>\n",
       "    </tr>\n",
       "    <tr>\n",
       "      <th>318155</th>\n",
       "      <td>0.9995</td>\n",
       "      <td>0.5144</td>\n",
       "      <td>0.0</td>\n",
       "      <td>0.0464</td>\n",
       "      <td>0.0369</td>\n",
       "      <td>0.3038</td>\n",
       "      <td>0.2089</td>\n",
       "      <td>0.1070</td>\n",
       "    </tr>\n",
       "  </tbody>\n",
       "</table>\n",
       "</div>"
      ],
      "text/plain": [
       "        cosVZA  cosSZA  cosRAA      B3      B4      B5      B6      B7\n",
       "318153  0.9995  0.5144     0.0  0.0648  0.0507  0.3496  0.2097  0.1117\n",
       "318154  0.9995  0.5144     0.0  0.0678  0.0745  0.2516  0.2344  0.1458\n",
       "318155  0.9995  0.5144     0.0  0.0464  0.0369  0.3038  0.2089  0.1070"
      ]
     },
     "execution_count": 10,
     "metadata": {},
     "output_type": "execute_result"
    }
   ],
   "source": [
    "# data[sl2p_inputs_bands].tail(3)"
   ]
  },
  {
   "cell_type": "markdown",
   "id": "f5f87402-034e-4bfc-a8cc-66d9e560bf8f",
   "metadata": {},
   "source": [
    "### 2 - Run SL2PV0 / export outputs"
   ]
  },
  {
   "cell_type": "code",
   "execution_count": 11,
   "id": "399b3e8f-5b36-4510-afb6-0241257c709e",
   "metadata": {
    "tags": []
   },
   "outputs": [
    {
     "name": "stdout",
     "output_type": "stream",
     "text": [
      "Estimating LAI from HLSL30 data using SL2P-V0 [Marie Weiss]\n",
      "Run SL2P...\n",
      "SL2P start: 2024-06-04 09:17:41.987366\n",
      "SL2P end: 2024-06-04 09:17:42.293458\n",
      "Generating sl2p input data flag\n",
      "Generating sl2p output product flag\n",
      "Done\n"
     ]
    },
    {
     "data": {
      "text/html": [
       "<div>\n",
       "<style scoped>\n",
       "    .dataframe tbody tr th:only-of-type {\n",
       "        vertical-align: middle;\n",
       "    }\n",
       "\n",
       "    .dataframe tbody tr th {\n",
       "        vertical-align: top;\n",
       "    }\n",
       "\n",
       "    .dataframe thead th {\n",
       "        text-align: right;\n",
       "    }\n",
       "</style>\n",
       "<table border=\"1\" class=\"dataframe\">\n",
       "  <thead>\n",
       "    <tr style=\"text-align: right;\">\n",
       "      <th></th>\n",
       "      <th>estimateLAI</th>\n",
       "      <th>networkID</th>\n",
       "      <th>errorLAI</th>\n",
       "      <th>QC_input</th>\n",
       "      <th>QC_output</th>\n",
       "    </tr>\n",
       "  </thead>\n",
       "  <tbody>\n",
       "    <tr>\n",
       "      <th>318153</th>\n",
       "      <td>1.913588</td>\n",
       "      <td>0</td>\n",
       "      <td>0.740808</td>\n",
       "      <td>1</td>\n",
       "      <td>0</td>\n",
       "    </tr>\n",
       "    <tr>\n",
       "      <th>318154</th>\n",
       "      <td>0.982272</td>\n",
       "      <td>0</td>\n",
       "      <td>0.549002</td>\n",
       "      <td>0</td>\n",
       "      <td>0</td>\n",
       "    </tr>\n",
       "    <tr>\n",
       "      <th>318155</th>\n",
       "      <td>1.706604</td>\n",
       "      <td>0</td>\n",
       "      <td>0.693556</td>\n",
       "      <td>1</td>\n",
       "      <td>0</td>\n",
       "    </tr>\n",
       "  </tbody>\n",
       "</table>\n",
       "</div>"
      ],
      "text/plain": [
       "        estimateLAI  networkID  errorLAI  QC_input  QC_output\n",
       "318153     1.913588          0  0.740808         1          0\n",
       "318154     0.982272          0  0.549002         0          0\n",
       "318155     1.706604          0  0.693556         1          0"
      ]
     },
     "execution_count": 11,
     "metadata": {},
     "output_type": "execute_result"
    }
   ],
   "source": [
    "DF=SL2P.SL2P(data,variableName,imageCollectionName,sl2p_inputs_bands)\n",
    "DF.tail(3)"
   ]
  },
  {
   "cell_type": "code",
   "execution_count": 12,
   "id": "6c861464-70a2-4854-90f4-7ac3a11793c5",
   "metadata": {
    "tags": []
   },
   "outputs": [
    {
     "data": {
      "text/plain": [
       "[<matplotlib.lines.Line2D at 0x128cf014640>]"
      ]
     },
     "execution_count": 12,
     "metadata": {},
     "output_type": "execute_result"
    },
    {
     "data": {
      "image/png": "[encoded data removed]",
      "text/plain": [
       "<Figure size 640x480 with 1 Axes>"
      ]
     },
     "metadata": {},
     "output_type": "display_data"
    }
   ],
   "source": [
    "plt.plot(DF['estimateLAI'],'.k')\n",
    "# plt.plot(DF['estimatefAPAR'],'.k')\n",
    "# plt.plot(DF['estimatefCOVER'],'.k')"
   ]
  },
  {
   "cell_type": "code",
   "execution_count": 13,
   "id": "800ff311-1f94-4c04-a4d6-50f894d1cdf6",
   "metadata": {},
   "outputs": [
    {
     "data": {
      "text/plain": [
       "['estimateLAI', 'networkID', 'errorLAI', 'QC_input', 'QC_output']"
      ]
     },
     "execution_count": 13,
     "metadata": {},
     "output_type": "execute_result"
    }
   ],
   "source": [
    "# list(DF.columns.values)"
   ]
  },
  {
   "cell_type": "code",
   "execution_count": 14,
   "id": "dcbada17-b3ef-4e61-9f1c-dbde0c325e76",
   "metadata": {},
   "outputs": [],
   "source": [
    "sr_list=['B1', 'B2', 'B3', 'B4', 'B5', 'B6', 'B7', 'B9', 'B10', 'B11', 'longitude', 'latitude', 'site','Date', 'NDVI']\n",
    "para_list=['estimateLAI', 'errorLAI', 'QC_input', 'QC_output']"
   ]
  },
  {
   "cell_type": "code",
   "execution_count": 15,
   "id": "57325b80-be61-41f4-8a25-f44ceab9dfb1",
   "metadata": {
    "tags": []
   },
   "outputs": [],
   "source": [
    "#Export DF\n",
    "# data[['date', 'longitude', 'latitude']].join(DF).to_csv(fn.replace('.csv','_%s_SL2P.csv'%(variableName)))\n",
    "data[sr_list].join(DF[para_list]).to_csv(fn.replace('.csv','_%s_SL2P00.csv'%(variableName))) "
   ]
  },
  {
   "cell_type": "markdown",
   "id": "f33bfa5e-6073-4260-bb44-021ce6cea8b7",
   "metadata": {},
   "source": [
    "### 3 - Run SL2P-CCRS / export outputs"
   ]
  },
  {
   "cell_type": "code",
   "execution_count": 24,
   "id": "006ea772-6eb3-4643-83be-5952ce9b7a22",
   "metadata": {
    "tags": []
   },
   "outputs": [
    {
     "name": "stdout",
     "output_type": "stream",
     "text": [
      "Estimating LAI from S2_L2A data using SL2P-CCRS\n"
     ]
    },
    {
     "ename": "ValueError",
     "evalue": "You should provide partition column when using SL2P-CCRS!!   Partition dictionary:  {'evergreen_needleaf_forest': 2, 'deciduous_broadleaf_forest': 5, 'invalid': 19, 'shrublands': 7, 'polar_shrubland': 11, 'grassland_pasture': 14, 'close_cropland': 15, 'lichen_feathermoss': 13, 'polar_grassland': 10, 'sphagnum_feathermoss': 12, 'sparse_cropland': 16, 'mixed_forest': 6}",
     "output_type": "error",
     "traceback": [
      "\u001b[1;31m---------------------------------------------------------------------------\u001b[0m",
      "\u001b[1;31mValueError\u001b[0m                                Traceback (most recent call last)",
      "Cell \u001b[1;32mIn[24], line 1\u001b[0m\n\u001b[1;32m----> 1\u001b[0m DF\u001b[38;5;241m=\u001b[39mSL2P\u001b[38;5;241m.\u001b[39mSL2PCCRS(data,variableName,imageCollectionName,sl2p_inputs_bands)\n\u001b[0;32m      2\u001b[0m DF\n",
      "File \u001b[1;32mR:\\forDjamai\\SL2P-SL2PCCRS\\tools\\SL2P.py:38\u001b[0m, in \u001b[0;36mSL2PCCRS\u001b[1;34m(samplesDF, variableName, imageCollectionName, sl2p_inputs_bands)\u001b[0m\n\u001b[0;32m     36\u001b[0m outDF\u001b[38;5;241m=\u001b[39mpd\u001b[38;5;241m.\u001b[39mDataFrame()\n\u001b[0;32m     37\u001b[0m \u001b[38;5;28;01mif\u001b[39;00m \u001b[38;5;124m'\u001b[39m\u001b[38;5;124mpartition\u001b[39m\u001b[38;5;124m'\u001b[39m \u001b[38;5;129;01mnot\u001b[39;00m \u001b[38;5;129;01min\u001b[39;00m samplesDF\u001b[38;5;241m.\u001b[39mcolumns:\n\u001b[1;32m---> 38\u001b[0m     \u001b[38;5;28;01mraise\u001b[39;00m \u001b[38;5;167;01mValueError\u001b[39;00m(\u001b[38;5;124m\"\"\"\u001b[39m\u001b[38;5;124mYou should provide partition column when using SL2P-CCRS!!   \u001b[39m\u001b[38;5;124m\"\"\"\u001b[39m\n\u001b[0;32m     39\u001b[0m \u001b[38;5;250m            \u001b[39m\u001b[38;5;124;03m\"\"\"Partition dictionary:  %s\"\"\"\u001b[39;00m\u001b[38;5;241m%\u001b[39m({ff[\u001b[38;5;124m'\u001b[39m\u001b[38;5;124mproperties\u001b[39m\u001b[38;5;124m'\u001b[39m][\u001b[38;5;124m'\u001b[39m\u001b[38;5;124mSL2P Network\u001b[39m\u001b[38;5;124m'\u001b[39m]:ff[\u001b[38;5;124m'\u001b[39m\u001b[38;5;124mproperties\u001b[39m\u001b[38;5;124m'\u001b[39m][\u001b[38;5;124m'\u001b[39m\u001b[38;5;124mValue\u001b[39m\u001b[38;5;124m'\u001b[39m] \u001b[38;5;28;01mfor\u001b[39;00m ff \u001b[38;5;129;01min\u001b[39;00m collectionOptions[imageCollectionName][\u001b[38;5;124m\"\u001b[39m\u001b[38;5;124mlegend\u001b[39m\u001b[38;5;124m\"\u001b[39m][\u001b[38;5;124m'\u001b[39m\u001b[38;5;124mfeatures\u001b[39m\u001b[38;5;124m'\u001b[39m]}))         \n\u001b[0;32m     40\u001b[0m \u001b[38;5;28;01melse\u001b[39;00m:\n\u001b[0;32m     41\u001b[0m     \u001b[38;5;28;01mfor\u001b[39;00m partition \u001b[38;5;129;01min\u001b[39;00m numpy\u001b[38;5;241m.\u001b[39munique(samplesDF[\u001b[38;5;124m'\u001b[39m\u001b[38;5;124mpartition\u001b[39m\u001b[38;5;124m'\u001b[39m]):\n",
      "\u001b[1;31mValueError\u001b[0m: You should provide partition column when using SL2P-CCRS!!   Partition dictionary:  {'evergreen_needleaf_forest': 2, 'deciduous_broadleaf_forest': 5, 'invalid': 19, 'shrublands': 7, 'polar_shrubland': 11, 'grassland_pasture': 14, 'close_cropland': 15, 'lichen_feathermoss': 13, 'polar_grassland': 10, 'sphagnum_feathermoss': 12, 'sparse_cropland': 16, 'mixed_forest': 6}"
     ]
    }
   ],
   "source": [
    "DF=SL2P.SL2PCCRS(data,variableName,imageCollectionName,sl2p_inputs_bands)\n",
    "DF"
   ]
  },
  {
   "cell_type": "code",
   "execution_count": 13,
   "id": "629126f8-7fd2-4ded-8644-aa5d6cdb7ccd",
   "metadata": {
    "tags": []
   },
   "outputs": [],
   "source": [
    "#Export DF\n",
    "data[['date', 'longitude', 'latitude']].join(DF).to_csv(fn.replace('.csv','_%s_SL2PCCRS.csv'%(variableName))) "
   ]
  },
  {
   "cell_type": "code",
   "execution_count": null,
   "id": "08bea44b-14ad-400f-b34c-c6569d959937",
   "metadata": {
    "tags": []
   },
   "outputs": [],
   "source": [
    "fn.replace('.csv','_%s_SL2PND.csv'%(variableName))"
   ]
  },
  {
   "cell_type": "code",
   "execution_count": null,
   "id": "6a4742b9-6a7f-4e93-9c96-ab1e6e686273",
   "metadata": {},
   "outputs": [],
   "source": []
  }
 ],
 "metadata": {
  "kernelspec": {
   "display_name": "Python 3 (ipykernel)",
   "language": "python",
   "name": "python3"
  },
  "language_info": {
   "codemirror_mode": {
    "name": "ipython",
    "version": 3
   },
   "file_extension": ".py",
   "mimetype": "text/x-python",
   "name": "python",
   "nbconvert_exporter": "python",
   "pygments_lexer": "ipython3",
   "version": "3.10.9"
  }
 },
 "nbformat": 4,
 "nbformat_minor": 5
}
