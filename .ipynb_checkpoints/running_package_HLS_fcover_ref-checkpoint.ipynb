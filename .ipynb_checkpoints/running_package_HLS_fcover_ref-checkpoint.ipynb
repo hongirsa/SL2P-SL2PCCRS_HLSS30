{
 "cells": [
  {
   "cell_type": "code",
   "execution_count": 1,
   "id": "69134e44-a5d8-465c-bdff-919907ed1da7",
   "metadata": {
    "tags": []
   },
   "outputs": [],
   "source": [
    "import sys,os\n",
    "[sys.path.append(x[0]) for x in os.walk('tools')]\n",
    "import dictionariesSL2P\n",
    "import SL2P\n",
    "from matplotlib import pyplot as plt\n",
    "import os,numpy\n",
    "import rasterio\n",
    "import os\n",
    "import pandas as pd"
   ]
  },
  {
   "cell_type": "markdown",
   "id": "973b6bf7-eb46-4b62-8687-157590821b39",
   "metadata": {
    "tags": []
   },
   "source": [
    "### Initiation"
   ]
  },
  {
   "cell_type": "code",
   "execution_count": 16,
   "id": "636e3f15-5ed4-4ae6-8e60-7d0f2532bb1f",
   "metadata": {
    "tags": []
   },
   "outputs": [
    {
     "name": "stdout",
     "output_type": "stream",
     "text": [
      "SL2P input data format for HLSL30 data: ['cosVZA', 'cosSZA', 'cosRAA', 'B3', 'B4', 'B5', 'B6', 'B7']\n"
     ]
    }
   ],
   "source": [
    "# variableName='LAI'\n",
    "# variableName='fAPAR'\n",
    "variableName='fCOVER'\n",
    "# imageCollectionName=\"COPERNICUS/S2_SR_HARMONIZED\"\n",
    "imageCollectionName=\"HLSL30\"\n",
    "# imageCollectionName=\"NASA/HLS/HLSL30/v002\"\n",
    "# imageCollectionName=\"S2_L2A\"\n",
    "# fn='R:/forDjamai/sitesS2SR_1k_2021_apr_nov.csv'\n",
    "# fn='E:/vegetation/gee/notebook/CFS/sitesHLSSR_1k_2021_apr_nov.csv'\n",
    "# fn='E:/vegetation/gee/notebook/CFS/sitesHLSSR_1k_2022_apr_nov_fraction99.csv'\n",
    "# fn='E:/vegetation/gee/notebook/CFS/sitesHLSSR_1k_2023_apr_nov_fraction99.csv'\n",
    "# fn='E:/vegetation/gee/notebook/CFS/sitesHLSSR_6sites_2013_apr_nov_fraction99.csv'\n",
    "# fn='E:/vegetation/gee/notebook/CFS/sitesHLSSR_mixed_2019_apr_nov_fraction50_test.csv'\n",
    "\n",
    "fn='E:/vegetation/gee/notebook/CFS/sitesHLSSR_mixed_2023_apr_nov_fraction50_test.csv'\n",
    "\n",
    "#### Input data Control ***-\n",
    "if variableName not in dictionariesSL2P.make_net_options().keys():\n",
    "    raise ValueError(('Supported vegetation valiables: %s'%(dictionariesSL2P.make_net_options().keys())))\n",
    "if imageCollectionName not in dictionariesSL2P.make_net_options()[variableName].keys():\n",
    "    raise ValueError(('Supported EO datasets: %s'%(dictionariesSL2P.make_net_options()[variableName].keys())))  \n",
    "       \n",
    "sl2p_inputs_bands=dictionariesSL2P.make_net_options()[variableName][imageCollectionName]['inputBands']  \n",
    "print ('SL2P input data format for %s data: %s' %(imageCollectionName,sl2p_inputs_bands))"
   ]
  },
  {
   "cell_type": "markdown",
   "id": "7cd581fc-5f65-46f0-af08-7b11265fd4b4",
   "metadata": {},
   "source": [
    "### 1- Read / prepare data"
   ]
  },
  {
   "cell_type": "code",
   "execution_count": 17,
   "id": "03e2159a-4a16-471c-8839-78cf58308168",
   "metadata": {
    "tags": []
   },
   "outputs": [
    {
     "data": {
      "text/html": [
       "<div>\n",
       "<style scoped>\n",
       "    .dataframe tbody tr th:only-of-type {\n",
       "        vertical-align: middle;\n",
       "    }\n",
       "\n",
       "    .dataframe tbody tr th {\n",
       "        vertical-align: top;\n",
       "    }\n",
       "\n",
       "    .dataframe thead th {\n",
       "        text-align: right;\n",
       "    }\n",
       "</style>\n",
       "<table border=\"1\" class=\"dataframe\">\n",
       "  <thead>\n",
       "    <tr style=\"text-align: right;\">\n",
       "      <th></th>\n",
       "      <th>Unnamed: 0</th>\n",
       "      <th>B1</th>\n",
       "      <th>B2</th>\n",
       "      <th>B3</th>\n",
       "      <th>B4</th>\n",
       "      <th>B5</th>\n",
       "      <th>B6</th>\n",
       "      <th>B7</th>\n",
       "      <th>B9</th>\n",
       "      <th>B10</th>\n",
       "      <th>...</th>\n",
       "      <th>VZA</th>\n",
       "      <th>VAA</th>\n",
       "      <th>date</th>\n",
       "      <th>longitude</th>\n",
       "      <th>latitude</th>\n",
       "      <th>cosVZA</th>\n",
       "      <th>cosSZA</th>\n",
       "      <th>cosRAA</th>\n",
       "      <th>site</th>\n",
       "      <th>utc</th>\n",
       "    </tr>\n",
       "  </thead>\n",
       "  <tbody>\n",
       "    <tr>\n",
       "      <th>396890</th>\n",
       "      <td>396890</td>\n",
       "      <td>0.0280</td>\n",
       "      <td>0.0306</td>\n",
       "      <td>0.0676</td>\n",
       "      <td>0.0397</td>\n",
       "      <td>0.4114</td>\n",
       "      <td>0.1988</td>\n",
       "      <td>0.0858</td>\n",
       "      <td>0.0009</td>\n",
       "      <td>25.18</td>\n",
       "      <td>...</td>\n",
       "      <td>1.6</td>\n",
       "      <td>135.87</td>\n",
       "      <td>1.693844e+12</td>\n",
       "      <td>-81.928132</td>\n",
       "      <td>42.939417</td>\n",
       "      <td>9996.0</td>\n",
       "      <td>7704.0</td>\n",
       "      <td>9728.0</td>\n",
       "      <td>8568</td>\n",
       "      <td>2023-09-04 16:09:57</td>\n",
       "    </tr>\n",
       "    <tr>\n",
       "      <th>396891</th>\n",
       "      <td>396891</td>\n",
       "      <td>0.0236</td>\n",
       "      <td>0.0267</td>\n",
       "      <td>0.0637</td>\n",
       "      <td>0.0345</td>\n",
       "      <td>0.4245</td>\n",
       "      <td>0.1932</td>\n",
       "      <td>0.0811</td>\n",
       "      <td>0.0010</td>\n",
       "      <td>25.70</td>\n",
       "      <td>...</td>\n",
       "      <td>1.6</td>\n",
       "      <td>136.02</td>\n",
       "      <td>1.693844e+12</td>\n",
       "      <td>-81.927029</td>\n",
       "      <td>42.939426</td>\n",
       "      <td>9996.0</td>\n",
       "      <td>7704.0</td>\n",
       "      <td>9734.0</td>\n",
       "      <td>8568</td>\n",
       "      <td>2023-09-04 16:09:57</td>\n",
       "    </tr>\n",
       "    <tr>\n",
       "      <th>396892</th>\n",
       "      <td>396892</td>\n",
       "      <td>0.0213</td>\n",
       "      <td>0.0254</td>\n",
       "      <td>0.0608</td>\n",
       "      <td>0.0347</td>\n",
       "      <td>0.4297</td>\n",
       "      <td>0.1960</td>\n",
       "      <td>0.0827</td>\n",
       "      <td>0.0007</td>\n",
       "      <td>25.71</td>\n",
       "      <td>...</td>\n",
       "      <td>1.6</td>\n",
       "      <td>136.01</td>\n",
       "      <td>1.693844e+12</td>\n",
       "      <td>-81.927033</td>\n",
       "      <td>42.939696</td>\n",
       "      <td>9996.0</td>\n",
       "      <td>7704.0</td>\n",
       "      <td>9734.0</td>\n",
       "      <td>8568</td>\n",
       "      <td>2023-09-04 16:09:57</td>\n",
       "    </tr>\n",
       "  </tbody>\n",
       "</table>\n",
       "<p>3 rows × 24 columns</p>\n",
       "</div>"
      ],
      "text/plain": [
       "        Unnamed: 0      B1      B2      B3      B4      B5      B6      B7  \\\n",
       "396890      396890  0.0280  0.0306  0.0676  0.0397  0.4114  0.1988  0.0858   \n",
       "396891      396891  0.0236  0.0267  0.0637  0.0345  0.4245  0.1932  0.0811   \n",
       "396892      396892  0.0213  0.0254  0.0608  0.0347  0.4297  0.1960  0.0827   \n",
       "\n",
       "            B9    B10  ...  VZA     VAA          date  longitude   latitude  \\\n",
       "396890  0.0009  25.18  ...  1.6  135.87  1.693844e+12 -81.928132  42.939417   \n",
       "396891  0.0010  25.70  ...  1.6  136.02  1.693844e+12 -81.927029  42.939426   \n",
       "396892  0.0007  25.71  ...  1.6  136.01  1.693844e+12 -81.927033  42.939696   \n",
       "\n",
       "        cosVZA  cosSZA  cosRAA  site                  utc  \n",
       "396890  9996.0  7704.0  9728.0  8568  2023-09-04 16:09:57  \n",
       "396891  9996.0  7704.0  9734.0  8568  2023-09-04 16:09:57  \n",
       "396892  9996.0  7704.0  9734.0  8568  2023-09-04 16:09:57  \n",
       "\n",
       "[3 rows x 24 columns]"
      ]
     },
     "execution_count": 17,
     "metadata": {},
     "output_type": "execute_result"
    }
   ],
   "source": [
    "data=pd.read_csv(fn)\n",
    "data.tail(3)\n",
    "# print('done')"
   ]
  },
  {
   "cell_type": "code",
   "execution_count": 18,
   "id": "465390ae-65c6-4843-b7bf-df09dc9cee78",
   "metadata": {},
   "outputs": [],
   "source": [
    "# list(data.columns.values)"
   ]
  },
  {
   "cell_type": "code",
   "execution_count": 19,
   "id": "ad9543d0-8627-4e4a-bfe4-0f48d26d080e",
   "metadata": {},
   "outputs": [],
   "source": [
    "# rename column names\n",
    "data = data.rename(columns={'date': 'time', 'utc': 'Date'})"
   ]
  },
  {
   "cell_type": "code",
   "execution_count": 20,
   "id": "9539c962-0d72-49f5-bd24-e9d74a3c4eac",
   "metadata": {},
   "outputs": [],
   "source": [
    "# data.tail(3)"
   ]
  },
  {
   "cell_type": "code",
   "execution_count": 21,
   "id": "88f6eb8a-2670-4d1d-a45a-841c45a82aa0",
   "metadata": {
    "tags": []
   },
   "outputs": [],
   "source": [
    "# data.rename(columns={'B1': 'B01', 'B2': 'B02', 'B3': 'B03', 'B4': 'B04', 'B5': 'B05', 'B6': 'B06', 'B7': 'B07', 'B8': 'B08'}, inplace=True)"
   ]
  },
  {
   "cell_type": "code",
   "execution_count": 22,
   "id": "d19962c2-413e-432c-85cc-bc0ef5562084",
   "metadata": {
    "tags": []
   },
   "outputs": [],
   "source": [
    "# data[sl2p_inputs_bands].tail(3)"
   ]
  },
  {
   "cell_type": "code",
   "execution_count": 23,
   "id": "05cd45cb-2f7f-470c-8f49-87bbece7fdd5",
   "metadata": {
    "tags": []
   },
   "outputs": [],
   "source": [
    "# data[sl2p_inputs_bands]=data[sl2p_inputs_bands]/10000\n",
    "# data['cosVZA']=data['cosVZA']/10000\n",
    "# data['cosSZA']=data['cosSZA']/10000\n",
    "# data['cosRAA']=data['cosRAA']/10000\n",
    "# data[['cosVZA','cosSZA','cosRAA']]/=10000"
   ]
  },
  {
   "cell_type": "code",
   "execution_count": 24,
   "id": "f0ad6f57-1336-4ae2-ac94-7d43ce9eba44",
   "metadata": {},
   "outputs": [],
   "source": [
    "data[['cosVZA','cosSZA','cosRAA']]/=10000\n",
    "# calculate NDVI =(NIR-R)/(NIR+R)\n",
    "data['NDVI']=(data['B5']-data['B4'])/(data['B5']+data['B4']) "
   ]
  },
  {
   "cell_type": "code",
   "execution_count": 25,
   "id": "23db52d6-fcea-42d3-8f00-4ca1dfa0c955",
   "metadata": {
    "tags": []
   },
   "outputs": [],
   "source": [
    "# data[sl2p_inputs_bands].tail(3)"
   ]
  },
  {
   "cell_type": "markdown",
   "id": "f5f87402-034e-4bfc-a8cc-66d9e560bf8f",
   "metadata": {},
   "source": [
    "### 2 - Run SL2PV0 / export outputs"
   ]
  },
  {
   "cell_type": "code",
   "execution_count": 26,
   "id": "399b3e8f-5b36-4510-afb6-0241257c709e",
   "metadata": {
    "tags": []
   },
   "outputs": [
    {
     "name": "stdout",
     "output_type": "stream",
     "text": [
      "Estimating fCOVER from HLSL30 data using SL2P-V0 [Marie Weiss]\n",
      "Run SL2P...\n",
      "SL2P start: 2024-07-23 23:39:36.857150\n",
      "SL2P end: 2024-07-23 23:39:37.329679\n",
      "Generating sl2p input data flag\n",
      "Generating sl2p output product flag\n",
      "Done\n"
     ]
    },
    {
     "data": {
      "text/html": [
       "<div>\n",
       "<style scoped>\n",
       "    .dataframe tbody tr th:only-of-type {\n",
       "        vertical-align: middle;\n",
       "    }\n",
       "\n",
       "    .dataframe tbody tr th {\n",
       "        vertical-align: top;\n",
       "    }\n",
       "\n",
       "    .dataframe thead th {\n",
       "        text-align: right;\n",
       "    }\n",
       "</style>\n",
       "<table border=\"1\" class=\"dataframe\">\n",
       "  <thead>\n",
       "    <tr style=\"text-align: right;\">\n",
       "      <th></th>\n",
       "      <th>estimatefCOVER</th>\n",
       "      <th>networkID</th>\n",
       "      <th>errorfCOVER</th>\n",
       "      <th>QC_input</th>\n",
       "      <th>QC_output</th>\n",
       "    </tr>\n",
       "  </thead>\n",
       "  <tbody>\n",
       "    <tr>\n",
       "      <th>396890</th>\n",
       "      <td>0.733977</td>\n",
       "      <td>0</td>\n",
       "      <td>0.016078</td>\n",
       "      <td>0</td>\n",
       "      <td>0</td>\n",
       "    </tr>\n",
       "    <tr>\n",
       "      <th>396891</th>\n",
       "      <td>0.765782</td>\n",
       "      <td>0</td>\n",
       "      <td>0.015823</td>\n",
       "      <td>0</td>\n",
       "      <td>0</td>\n",
       "    </tr>\n",
       "    <tr>\n",
       "      <th>396892</th>\n",
       "      <td>0.771612</td>\n",
       "      <td>0</td>\n",
       "      <td>0.015737</td>\n",
       "      <td>0</td>\n",
       "      <td>0</td>\n",
       "    </tr>\n",
       "  </tbody>\n",
       "</table>\n",
       "</div>"
      ],
      "text/plain": [
       "        estimatefCOVER  networkID  errorfCOVER  QC_input  QC_output\n",
       "396890        0.733977          0     0.016078         0          0\n",
       "396891        0.765782          0     0.015823         0          0\n",
       "396892        0.771612          0     0.015737         0          0"
      ]
     },
     "execution_count": 26,
     "metadata": {},
     "output_type": "execute_result"
    }
   ],
   "source": [
    "DF=SL2P.SL2P(data,variableName,imageCollectionName,sl2p_inputs_bands)\n",
    "DF.tail(3)"
   ]
  },
  {
   "cell_type": "code",
   "execution_count": 27,
   "id": "6c861464-70a2-4854-90f4-7ac3a11793c5",
   "metadata": {
    "tags": []
   },
   "outputs": [
    {
     "data": {
      "text/plain": [
       "[<matplotlib.lines.Line2D at 0x203812252a0>]"
      ]
     },
     "execution_count": 27,
     "metadata": {},
     "output_type": "execute_result"
    },
    {
     "data": {
      "image/png": "[encoded data removed]",
      "text/plain": [
       "<Figure size 640x480 with 1 Axes>"
      ]
     },
     "metadata": {},
     "output_type": "display_data"
    }
   ],
   "source": [
    "# plt.plot(DF['estimateLAI'],'.k')\n",
    "# plt.plot(DF['estimatefAPAR'],'.k')\n",
    "plt.plot(DF['estimatefCOVER'],'.k')"
   ]
  },
  {
   "cell_type": "code",
   "execution_count": 28,
   "id": "800ff311-1f94-4c04-a4d6-50f894d1cdf6",
   "metadata": {},
   "outputs": [],
   "source": [
    "# list(DF.columns.values)"
   ]
  },
  {
   "cell_type": "code",
   "execution_count": 29,
   "id": "dcbada17-b3ef-4e61-9f1c-dbde0c325e76",
   "metadata": {},
   "outputs": [],
   "source": [
    "sr_list=['B1', 'B2', 'B3', 'B4', 'B5', 'B6', 'B7', 'B9', 'B10', 'B11', 'longitude', 'latitude', 'TARGET_FID','Date', 'NDVI']\n",
    "# para_list=['estimateLAI', 'errorLAI', 'QC_input', 'QC_output']\n",
    "# para_list=['estimatefAPAR', 'errorfAPAR', 'QC_input', 'QC_output']\n",
    "para_list=['estimatefCOVER', 'errorfCOVER', 'QC_input', 'QC_output']"
   ]
  },
  {
   "cell_type": "code",
   "execution_count": 30,
   "id": "57325b80-be61-41f4-8a25-f44ceab9dfb1",
   "metadata": {
    "tags": []
   },
   "outputs": [],
   "source": [
    "#Export DF\n",
    "# data[['date', 'longitude', 'latitude']].join(DF).to_csv(fn.replace('.csv','_%s_SL2P.csv'%(variableName)))\n",
    "data[sr_list].join(DF[para_list]).to_csv(fn.replace('.csv','_%s_SL2P2.csv'%(variableName))) "
   ]
  },
  {
   "cell_type": "markdown",
   "id": "f33bfa5e-6073-4260-bb44-021ce6cea8b7",
   "metadata": {},
   "source": [
    "### 3 - Run SL2P-CCRS / export outputs"
   ]
  },
  {
   "cell_type": "code",
   "execution_count": null,
   "id": "006ea772-6eb3-4643-83be-5952ce9b7a22",
   "metadata": {
    "tags": []
   },
   "outputs": [],
   "source": [
    "DF=SL2P.SL2PCCRS(data,variableName,imageCollectionName,sl2p_inputs_bands)\n",
    "DF"
   ]
  },
  {
   "cell_type": "code",
   "execution_count": 13,
   "id": "629126f8-7fd2-4ded-8644-aa5d6cdb7ccd",
   "metadata": {
    "tags": []
   },
   "outputs": [],
   "source": [
    "#Export DF\n",
    "data[['date', 'longitude', 'latitude']].join(DF).to_csv(fn.replace('.csv','_%s_SL2PCCRS.csv'%(variableName))) "
   ]
  },
  {
   "cell_type": "code",
   "execution_count": null,
   "id": "08bea44b-14ad-400f-b34c-c6569d959937",
   "metadata": {
    "tags": []
   },
   "outputs": [],
   "source": [
    "fn.replace('.csv','_%s_SL2PND.csv'%(variableName))"
   ]
  },
  {
   "cell_type": "code",
   "execution_count": null,
   "id": "6a4742b9-6a7f-4e93-9c96-ab1e6e686273",
   "metadata": {},
   "outputs": [],
   "source": []
  }
 ],
 "metadata": {
  "kernelspec": {
   "display_name": "Python 3 (ipykernel)",
   "language": "python",
   "name": "python3"
  },
  "language_info": {
   "codemirror_mode": {
    "name": "ipython",
    "version": 3
   },
   "file_extension": ".py",
   "mimetype": "text/x-python",
   "name": "python",
   "nbconvert_exporter": "python",
   "pygments_lexer": "ipython3",
   "version": "3.10.9"
  }
 },
 "nbformat": 4,
 "nbformat_minor": 5
}
