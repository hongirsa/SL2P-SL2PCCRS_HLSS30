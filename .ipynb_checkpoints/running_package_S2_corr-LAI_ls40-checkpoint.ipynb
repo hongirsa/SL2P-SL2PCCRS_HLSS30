{
 "cells": [
  {
   "cell_type": "code",
   "execution_count": 1,
   "id": "69134e44-a5d8-465c-bdff-919907ed1da7",
   "metadata": {
    "tags": []
   },
   "outputs": [],
   "source": [
    "import sys,os\n",
    "[sys.path.append(x[0]) for x in os.walk('tools')]\n",
    "import dictionariesSL2P\n",
    "import SL2P\n",
    "from matplotlib import pyplot as plt\n",
    "import os,numpy\n",
    "import rasterio\n",
    "import os\n",
    "import pandas as pd"
   ]
  },
  {
   "cell_type": "markdown",
   "id": "973b6bf7-eb46-4b62-8687-157590821b39",
   "metadata": {
    "tags": []
   },
   "source": [
    "### Initiation"
   ]
  },
  {
   "cell_type": "code",
   "execution_count": 61,
   "id": "636e3f15-5ed4-4ae6-8e60-7d0f2532bb1f",
   "metadata": {
    "tags": []
   },
   "outputs": [
    {
     "name": "stdout",
     "output_type": "stream",
     "text": [
      "SL2P input data format for S2_L2A data: ['cosVZA', 'cosSZA', 'cosRAA', 'B03', 'B04', 'B05', 'B06', 'B07', 'B8A', 'B11', 'B12']\n"
     ]
    }
   ],
   "source": [
    "variableName='LAI'\n",
    "# variableName='fAPAR'\n",
    "# variableName='fCOVER'\n",
    "# imageCollectionName=\"COPERNICUS/S2_SR_HARMONIZED\"\n",
    "# imageCollectionName=\"NASA/HLS/HLSL30/v002\"\n",
    "imageCollectionName=\"S2_L2A\"\n",
    "# fn='E:/vegetation/gee/notebook/CFS/sitesS2SR_1k_2021_apr_nov.csv'\n",
    "# fn='E:/vegetation/gee/notebook/CFS/HW_SW/sitesHLSSR_FO_2007_2014_mixed_2019_apr_nov_fraction50_cloud.csv'\n",
    "# fn='E:/vegetation/gee/notebook/CFS/HW_SW/sitesS2SR_FO_2007_2014_mixed_2023_apr_nov_fraction50_cloud.csv'\n",
    "# fn='E:/vegetation/gee/notebook/CFS/HW_SW/sitesS2SR_FO_2007_2018_SW_2020_apr_nov_fraction50_cloud.csv' \n",
    "# fn='E:/vegetation/gee/notebook/CFS/HW_SW/sitesS2SR_FO_2007_2018_SW_2019_apr_nov_fraction50_cloud.csv'\n",
    "# fn='E:/vegetation/gee/notebook/CFS/HW_SW/sitesS2SR_FO_2007_2018_HW_2023_apr_nov_fraction50_cloud.csv'\n",
    "fn='E:/vegetation/gee/notebook/CFS/HW_SW/S2/SR/sitesS2SR_FO_2015_2018_mixed_2022_apr_nov_fraction50_cloud.csv' \n",
    "\n",
    "#### Input data Control ***-\n",
    "if variableName not in dictionariesSL2P.make_net_options().keys():\n",
    "    raise ValueError(('Supported vegetation valiables: %s'%(dictionariesSL2P.make_net_options().keys())))\n",
    "if imageCollectionName not in dictionariesSL2P.make_net_options()[variableName].keys():\n",
    "    raise ValueError(('Supported EO datasets: %s'%(dictionariesSL2P.make_net_options()[variableName].keys())))  \n",
    "       \n",
    "sl2p_inputs_bands=dictionariesSL2P.make_net_options()[variableName][imageCollectionName]['inputBands']  \n",
    "print ('SL2P input data format for %s data: %s' %(imageCollectionName,sl2p_inputs_bands))"
   ]
  },
  {
   "cell_type": "markdown",
   "id": "7cd581fc-5f65-46f0-af08-7b11265fd4b4",
   "metadata": {},
   "source": [
    "### 1- Read / prepare data"
   ]
  },
  {
   "cell_type": "code",
   "execution_count": 62,
   "id": "03e2159a-4a16-471c-8839-78cf58308168",
   "metadata": {
    "tags": []
   },
   "outputs": [
    {
     "data": {
      "text/html": [
       "<div>\n",
       "<style scoped>\n",
       "    .dataframe tbody tr th:only-of-type {\n",
       "        vertical-align: middle;\n",
       "    }\n",
       "\n",
       "    .dataframe tbody tr th {\n",
       "        vertical-align: top;\n",
       "    }\n",
       "\n",
       "    .dataframe thead th {\n",
       "        text-align: right;\n",
       "    }\n",
       "</style>\n",
       "<table border=\"1\" class=\"dataframe\">\n",
       "  <thead>\n",
       "    <tr style=\"text-align: right;\">\n",
       "      <th></th>\n",
       "      <th>Unnamed: 0</th>\n",
       "      <th>B1</th>\n",
       "      <th>B2</th>\n",
       "      <th>B3</th>\n",
       "      <th>B4</th>\n",
       "      <th>B5</th>\n",
       "      <th>B6</th>\n",
       "      <th>B7</th>\n",
       "      <th>B8</th>\n",
       "      <th>B8A</th>\n",
       "      <th>...</th>\n",
       "      <th>cosVZA</th>\n",
       "      <th>cosSZA</th>\n",
       "      <th>cosRAA</th>\n",
       "      <th>partition</th>\n",
       "      <th>s2cloudless_probability</th>\n",
       "      <th>MSK_CLASSI_OPAQUE</th>\n",
       "      <th>MSK_CLASSI_CIRRUS</th>\n",
       "      <th>MSK_CLASSI_SNOW_ICE</th>\n",
       "      <th>site</th>\n",
       "      <th>utc</th>\n",
       "    </tr>\n",
       "  </thead>\n",
       "  <tbody>\n",
       "    <tr>\n",
       "      <th>453587</th>\n",
       "      <td>453587</td>\n",
       "      <td>0.0355</td>\n",
       "      <td>0.0361</td>\n",
       "      <td>0.0449</td>\n",
       "      <td>0.0491</td>\n",
       "      <td>0.0716</td>\n",
       "      <td>0.1227</td>\n",
       "      <td>0.1452</td>\n",
       "      <td>0.1531</td>\n",
       "      <td>0.1681</td>\n",
       "      <td>...</td>\n",
       "      <td>0.9897</td>\n",
       "      <td>0.4631</td>\n",
       "      <td>-0.415</td>\n",
       "      <td>6</td>\n",
       "      <td>16.50</td>\n",
       "      <td>NaN</td>\n",
       "      <td>NaN</td>\n",
       "      <td>NaN</td>\n",
       "      <td>8015</td>\n",
       "      <td>2022-11-10 16:30:56.398</td>\n",
       "    </tr>\n",
       "    <tr>\n",
       "      <th>453588</th>\n",
       "      <td>453588</td>\n",
       "      <td>0.0355</td>\n",
       "      <td>0.0361</td>\n",
       "      <td>0.0449</td>\n",
       "      <td>0.0491</td>\n",
       "      <td>0.0716</td>\n",
       "      <td>0.1227</td>\n",
       "      <td>0.1452</td>\n",
       "      <td>0.1531</td>\n",
       "      <td>0.1681</td>\n",
       "      <td>...</td>\n",
       "      <td>0.9897</td>\n",
       "      <td>0.4631</td>\n",
       "      <td>-0.415</td>\n",
       "      <td>6</td>\n",
       "      <td>14.75</td>\n",
       "      <td>NaN</td>\n",
       "      <td>NaN</td>\n",
       "      <td>NaN</td>\n",
       "      <td>8015</td>\n",
       "      <td>2022-11-10 16:30:56.398</td>\n",
       "    </tr>\n",
       "    <tr>\n",
       "      <th>453589</th>\n",
       "      <td>453589</td>\n",
       "      <td>0.0403</td>\n",
       "      <td>0.0582</td>\n",
       "      <td>0.0765</td>\n",
       "      <td>0.0873</td>\n",
       "      <td>0.1272</td>\n",
       "      <td>0.1900</td>\n",
       "      <td>0.2126</td>\n",
       "      <td>0.2211</td>\n",
       "      <td>0.2451</td>\n",
       "      <td>...</td>\n",
       "      <td>0.9897</td>\n",
       "      <td>0.4631</td>\n",
       "      <td>-0.415</td>\n",
       "      <td>15</td>\n",
       "      <td>10.25</td>\n",
       "      <td>NaN</td>\n",
       "      <td>NaN</td>\n",
       "      <td>NaN</td>\n",
       "      <td>8015</td>\n",
       "      <td>2022-11-10 16:30:56.398</td>\n",
       "    </tr>\n",
       "  </tbody>\n",
       "</table>\n",
       "<p>3 rows × 37 columns</p>\n",
       "</div>"
      ],
      "text/plain": [
       "        Unnamed: 0      B1      B2      B3      B4      B5      B6      B7  \\\n",
       "453587      453587  0.0355  0.0361  0.0449  0.0491  0.0716  0.1227  0.1452   \n",
       "453588      453588  0.0355  0.0361  0.0449  0.0491  0.0716  0.1227  0.1452   \n",
       "453589      453589  0.0403  0.0582  0.0765  0.0873  0.1272  0.1900  0.2126   \n",
       "\n",
       "            B8     B8A  ...  cosVZA  cosSZA  cosRAA  partition  \\\n",
       "453587  0.1531  0.1681  ...  0.9897  0.4631  -0.415          6   \n",
       "453588  0.1531  0.1681  ...  0.9897  0.4631  -0.415          6   \n",
       "453589  0.2211  0.2451  ...  0.9897  0.4631  -0.415         15   \n",
       "\n",
       "        s2cloudless_probability  MSK_CLASSI_OPAQUE  MSK_CLASSI_CIRRUS  \\\n",
       "453587                    16.50                NaN                NaN   \n",
       "453588                    14.75                NaN                NaN   \n",
       "453589                    10.25                NaN                NaN   \n",
       "\n",
       "        MSK_CLASSI_SNOW_ICE  site                      utc  \n",
       "453587                  NaN  8015  2022-11-10 16:30:56.398  \n",
       "453588                  NaN  8015  2022-11-10 16:30:56.398  \n",
       "453589                  NaN  8015  2022-11-10 16:30:56.398  \n",
       "\n",
       "[3 rows x 37 columns]"
      ]
     },
     "execution_count": 62,
     "metadata": {},
     "output_type": "execute_result"
    }
   ],
   "source": [
    "data=pd.read_csv(fn)\n",
    "data.tail(3)\n",
    "# print('done')"
   ]
  },
  {
   "cell_type": "code",
   "execution_count": 63,
   "id": "d0892d9b-b63c-4715-9da0-d8ea19b4611b",
   "metadata": {},
   "outputs": [],
   "source": [
    "# list(data.columns.values)"
   ]
  },
  {
   "cell_type": "code",
   "execution_count": 64,
   "id": "88f6eb8a-2670-4d1d-a45a-841c45a82aa0",
   "metadata": {
    "tags": []
   },
   "outputs": [],
   "source": [
    "data.rename(columns={'B1': 'B01', 'B2': 'B02', 'B3': 'B03', 'B4': 'B04', 'B5': 'B05', 'B6': 'B06', 'B7': 'B07', 'B8': 'B08', 'B9': 'B09'}, inplace=True)"
   ]
  },
  {
   "cell_type": "code",
   "execution_count": 65,
   "id": "dcc2d1c8-cffe-452c-9514-0e7d77a788dc",
   "metadata": {},
   "outputs": [],
   "source": [
    "# rename column names\n",
    "data = data.rename(columns={'date': 'time', 'utc': 'Date'})"
   ]
  },
  {
   "cell_type": "code",
   "execution_count": 66,
   "id": "d19962c2-413e-432c-85cc-bc0ef5562084",
   "metadata": {
    "tags": []
   },
   "outputs": [
    {
     "data": {
      "text/html": [
       "<div>\n",
       "<style scoped>\n",
       "    .dataframe tbody tr th:only-of-type {\n",
       "        vertical-align: middle;\n",
       "    }\n",
       "\n",
       "    .dataframe tbody tr th {\n",
       "        vertical-align: top;\n",
       "    }\n",
       "\n",
       "    .dataframe thead th {\n",
       "        text-align: right;\n",
       "    }\n",
       "</style>\n",
       "<table border=\"1\" class=\"dataframe\">\n",
       "  <thead>\n",
       "    <tr style=\"text-align: right;\">\n",
       "      <th></th>\n",
       "      <th>cosVZA</th>\n",
       "      <th>cosSZA</th>\n",
       "      <th>cosRAA</th>\n",
       "      <th>B03</th>\n",
       "      <th>B04</th>\n",
       "      <th>B05</th>\n",
       "      <th>B06</th>\n",
       "      <th>B07</th>\n",
       "      <th>B8A</th>\n",
       "      <th>B11</th>\n",
       "      <th>B12</th>\n",
       "    </tr>\n",
       "  </thead>\n",
       "  <tbody>\n",
       "    <tr>\n",
       "      <th>453587</th>\n",
       "      <td>0.9897</td>\n",
       "      <td>0.4631</td>\n",
       "      <td>-0.415</td>\n",
       "      <td>0.0449</td>\n",
       "      <td>0.0491</td>\n",
       "      <td>0.0716</td>\n",
       "      <td>0.1227</td>\n",
       "      <td>0.1452</td>\n",
       "      <td>0.1681</td>\n",
       "      <td>0.1748</td>\n",
       "      <td>0.1017</td>\n",
       "    </tr>\n",
       "    <tr>\n",
       "      <th>453588</th>\n",
       "      <td>0.9897</td>\n",
       "      <td>0.4631</td>\n",
       "      <td>-0.415</td>\n",
       "      <td>0.0449</td>\n",
       "      <td>0.0491</td>\n",
       "      <td>0.0716</td>\n",
       "      <td>0.1227</td>\n",
       "      <td>0.1452</td>\n",
       "      <td>0.1681</td>\n",
       "      <td>0.1748</td>\n",
       "      <td>0.1017</td>\n",
       "    </tr>\n",
       "    <tr>\n",
       "      <th>453589</th>\n",
       "      <td>0.9897</td>\n",
       "      <td>0.4631</td>\n",
       "      <td>-0.415</td>\n",
       "      <td>0.0765</td>\n",
       "      <td>0.0873</td>\n",
       "      <td>0.1272</td>\n",
       "      <td>0.1900</td>\n",
       "      <td>0.2126</td>\n",
       "      <td>0.2451</td>\n",
       "      <td>0.2623</td>\n",
       "      <td>0.1625</td>\n",
       "    </tr>\n",
       "  </tbody>\n",
       "</table>\n",
       "</div>"
      ],
      "text/plain": [
       "        cosVZA  cosSZA  cosRAA     B03     B04     B05     B06     B07  \\\n",
       "453587  0.9897  0.4631  -0.415  0.0449  0.0491  0.0716  0.1227  0.1452   \n",
       "453588  0.9897  0.4631  -0.415  0.0449  0.0491  0.0716  0.1227  0.1452   \n",
       "453589  0.9897  0.4631  -0.415  0.0765  0.0873  0.1272  0.1900  0.2126   \n",
       "\n",
       "           B8A     B11     B12  \n",
       "453587  0.1681  0.1748  0.1017  \n",
       "453588  0.1681  0.1748  0.1017  \n",
       "453589  0.2451  0.2623  0.1625  "
      ]
     },
     "execution_count": 66,
     "metadata": {},
     "output_type": "execute_result"
    }
   ],
   "source": [
    "data[sl2p_inputs_bands].tail(3)"
   ]
  },
  {
   "cell_type": "code",
   "execution_count": 67,
   "id": "05cd45cb-2f7f-470c-8f49-87bbece7fdd5",
   "metadata": {
    "tags": []
   },
   "outputs": [],
   "source": [
    "# data[sl2p_inputs_bands]=data[sl2p_inputs_bands]/10000"
   ]
  },
  {
   "cell_type": "code",
   "execution_count": 68,
   "id": "23db52d6-fcea-42d3-8f00-4ca1dfa0c955",
   "metadata": {
    "tags": []
   },
   "outputs": [],
   "source": [
    "# data[sl2p_inputs_bands].tail(3)"
   ]
  },
  {
   "cell_type": "code",
   "execution_count": 69,
   "id": "b607387e-5b3d-4026-8719-5548f6ed7339",
   "metadata": {},
   "outputs": [],
   "source": [
    "# divide 10000 for other bands.\n",
    "# data[['B01', 'B02', 'B08','B09']] =data[['B01', 'B02', 'B08','B09']].div(10000)"
   ]
  },
  {
   "cell_type": "code",
   "execution_count": 70,
   "id": "fa85bde3-1d19-432e-9d32-2c3f18a5be4c",
   "metadata": {},
   "outputs": [],
   "source": [
    "# calculate NDVI =(NIR-R)/(NIR+R)\n",
    "data['NDVI']=(data['B08']-data['B04'])/(data['B08']+data['B04']) "
   ]
  },
  {
   "cell_type": "code",
   "execution_count": 71,
   "id": "4f599015-a2dd-43e4-b543-017582db216b",
   "metadata": {},
   "outputs": [],
   "source": [
    "# data.head(3)"
   ]
  },
  {
   "cell_type": "code",
   "execution_count": 72,
   "id": "4654d5ed-3256-4741-84d1-d0869180c66d",
   "metadata": {},
   "outputs": [],
   "source": [
    "# list(data.columns.values)"
   ]
  },
  {
   "cell_type": "markdown",
   "id": "f5f87402-034e-4bfc-a8cc-66d9e560bf8f",
   "metadata": {},
   "source": [
    "### 2 - Run SL2PV0 / export outputs"
   ]
  },
  {
   "cell_type": "code",
   "execution_count": 73,
   "id": "399b3e8f-5b36-4510-afb6-0241257c709e",
   "metadata": {
    "tags": []
   },
   "outputs": [
    {
     "name": "stdout",
     "output_type": "stream",
     "text": [
      "Estimating LAI from S2_L2A data using SL2P-V0 [Marie Weiss]\n",
      "Run SL2P...\n",
      "SL2P start: 2024-10-08 20:10:59.356410\n",
      "SL2P end: 2024-10-08 20:10:59.844718\n",
      "Generating sl2p input data flag\n",
      "Generating sl2p output product flag\n",
      "Done\n"
     ]
    },
    {
     "data": {
      "text/html": [
       "<div>\n",
       "<style scoped>\n",
       "    .dataframe tbody tr th:only-of-type {\n",
       "        vertical-align: middle;\n",
       "    }\n",
       "\n",
       "    .dataframe tbody tr th {\n",
       "        vertical-align: top;\n",
       "    }\n",
       "\n",
       "    .dataframe thead th {\n",
       "        text-align: right;\n",
       "    }\n",
       "</style>\n",
       "<table border=\"1\" class=\"dataframe\">\n",
       "  <thead>\n",
       "    <tr style=\"text-align: right;\">\n",
       "      <th></th>\n",
       "      <th>estimateLAI</th>\n",
       "      <th>networkID</th>\n",
       "      <th>errorLAI</th>\n",
       "      <th>QC_input</th>\n",
       "      <th>QC_output</th>\n",
       "    </tr>\n",
       "  </thead>\n",
       "  <tbody>\n",
       "    <tr>\n",
       "      <th>453587</th>\n",
       "      <td>0.885247</td>\n",
       "      <td>0</td>\n",
       "      <td>0.474241</td>\n",
       "      <td>0</td>\n",
       "      <td>0</td>\n",
       "    </tr>\n",
       "    <tr>\n",
       "      <th>453588</th>\n",
       "      <td>0.885247</td>\n",
       "      <td>0</td>\n",
       "      <td>0.474241</td>\n",
       "      <td>0</td>\n",
       "      <td>0</td>\n",
       "    </tr>\n",
       "    <tr>\n",
       "      <th>453589</th>\n",
       "      <td>0.743548</td>\n",
       "      <td>0</td>\n",
       "      <td>0.433362</td>\n",
       "      <td>0</td>\n",
       "      <td>0</td>\n",
       "    </tr>\n",
       "  </tbody>\n",
       "</table>\n",
       "</div>"
      ],
      "text/plain": [
       "        estimateLAI  networkID  errorLAI  QC_input  QC_output\n",
       "453587     0.885247          0  0.474241         0          0\n",
       "453588     0.885247          0  0.474241         0          0\n",
       "453589     0.743548          0  0.433362         0          0"
      ]
     },
     "execution_count": 73,
     "metadata": {},
     "output_type": "execute_result"
    }
   ],
   "source": [
    "DF=SL2P.SL2P(data,variableName,imageCollectionName,sl2p_inputs_bands)\n",
    "DF.tail(3)"
   ]
  },
  {
   "cell_type": "code",
   "execution_count": 74,
   "id": "6c861464-70a2-4854-90f4-7ac3a11793c5",
   "metadata": {
    "tags": []
   },
   "outputs": [
    {
     "data": {
      "text/plain": [
       "[<matplotlib.lines.Line2D at 0x175bc39dd50>]"
      ]
     },
     "execution_count": 74,
     "metadata": {},
     "output_type": "execute_result"
    },
    {
     "data": {
      "image/png": "[encoded data removed]",
      "text/plain": [
       "<Figure size 640x480 with 1 Axes>"
      ]
     },
     "metadata": {},
     "output_type": "display_data"
    }
   ],
   "source": [
    "plt.plot(DF['estimateLAI'],'.k')\n",
    "# plt.plot(DF['estimatefAPAR'],'.k')\n",
    "# plt.plot(DF['estimatefCOVER'],'.k')"
   ]
  },
  {
   "cell_type": "code",
   "execution_count": 75,
   "id": "f981324b-0b3b-466f-b0ed-df58a311521d",
   "metadata": {},
   "outputs": [],
   "source": [
    "sr_list=['B01', 'B02', 'B03', 'B04', 'B05', 'B06', 'B07', 'B08', 'B8A', 'B09', 'B11', 'B12', 'longitude', 'latitude', 'site','Date', 'NDVI', 's2cloudless_probability']\n",
    "para_list=['estimateLAI', 'errorLAI', 'QC_input', 'QC_output']\n",
    "# para_list=['estimatefAPAR', 'errorfAPAR', 'QC_input', 'QC_output']\n",
    "# para_list=['estimatefCOVER', 'errorfCOVER', 'QC_input', 'QC_output']"
   ]
  },
  {
   "cell_type": "code",
   "execution_count": 76,
   "id": "57325b80-be61-41f4-8a25-f44ceab9dfb1",
   "metadata": {
    "tags": []
   },
   "outputs": [],
   "source": [
    "#Export DF\n",
    "# data[['date', 'longitude', 'latitude']].join(DF).to_csv(fn.replace('.csv','_%s_SL2P.csv'%(variableName))) \n",
    "data[sr_list].join(DF[para_list]).to_csv(fn.replace('.csv','_%s_SL2P2.csv'%(variableName))) "
   ]
  },
  {
   "cell_type": "markdown",
   "id": "f33bfa5e-6073-4260-bb44-021ce6cea8b7",
   "metadata": {},
   "source": [
    "### 3 - Run SL2P-CCRS / export outputs"
   ]
  },
  {
   "cell_type": "code",
   "execution_count": null,
   "id": "006ea772-6eb3-4643-83be-5952ce9b7a22",
   "metadata": {
    "tags": []
   },
   "outputs": [],
   "source": [
    "DF=SL2P.SL2PCCRS(data,variableName,imageCollectionName,sl2p_inputs_bands)\n",
    "DF"
   ]
  },
  {
   "cell_type": "code",
   "execution_count": null,
   "id": "629126f8-7fd2-4ded-8644-aa5d6cdb7ccd",
   "metadata": {
    "tags": []
   },
   "outputs": [],
   "source": [
    "#Export DF\n",
    "data[['date', 'longitude', 'latitude']].join(DF).to_csv(fn.replace('.csv','_%s_SL2PCCRS.csv'%(variableName))) "
   ]
  },
  {
   "cell_type": "code",
   "execution_count": null,
   "id": "08bea44b-14ad-400f-b34c-c6569d959937",
   "metadata": {
    "tags": []
   },
   "outputs": [],
   "source": [
    "fn.replace('.csv','_%s_SL2PND.csv'%(variableName))"
   ]
  },
  {
   "cell_type": "code",
   "execution_count": null,
   "id": "6a4742b9-6a7f-4e93-9c96-ab1e6e686273",
   "metadata": {},
   "outputs": [],
   "source": []
  }
 ],
 "metadata": {
  "kernelspec": {
   "display_name": "Python 3 (ipykernel)",
   "language": "python",
   "name": "python3"
  },
  "language_info": {
   "codemirror_mode": {
    "name": "ipython",
    "version": 3
   },
   "file_extension": ".py",
   "mimetype": "text/x-python",
   "name": "python",
   "nbconvert_exporter": "python",
   "pygments_lexer": "ipython3",
   "version": "3.10.9"
  }
 },
 "nbformat": 4,
 "nbformat_minor": 5
}
